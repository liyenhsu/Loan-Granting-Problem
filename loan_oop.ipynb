{
 "cells": [
  {
   "cell_type": "markdown",
   "metadata": {},
   "source": [
    "Based on the methods developed in [loan_eda_modeling.ipynb](loan_eda_modeling.ipynb), in this notebook, I implement a pipeline to train a model and make predictions using two classes. Note that here I use all the loans that were granted as the training set, and use all the loans that were not granted as the test set (pretending they are new requested loans for which predictions are needed)."
   ]
  },
  {
   "cell_type": "code",
   "execution_count": 1,
   "metadata": {},
   "outputs": [],
   "source": [
    "import numpy as np\n",
    "import pandas as pd \n",
    "import matplotlib.pyplot as plt\n",
    "from sklearn.utils import shuffle\n",
    "from sklearn.preprocessing import LabelEncoder, StandardScaler\n",
    "from sklearn.linear_model import LogisticRegression\n",
    "from sklearn.ensemble import RandomForestClassifier\n",
    "from sklearn.model_selection import GridSearchCV, cross_val_score\n",
    "from treeinterpreter import treeinterpreter as ti\n",
    "import warnings\n",
    "\n",
    "plt.style.use('seaborn')\n",
    "warnings.filterwarnings('ignore')"
   ]
  },
  {
   "cell_type": "code",
   "execution_count": 2,
   "metadata": {},
   "outputs": [],
   "source": [
    "df_loan = pd.read_csv('data/loan_table.csv')\n",
    "df_borrower = pd.read_csv('data/borrower_table.csv')\n",
    "df = df_loan.merge(df_borrower, on='loan_id')"
   ]
  },
  {
   "cell_type": "code",
   "execution_count": 3,
   "metadata": {},
   "outputs": [
    {
     "data": {
      "text/plain": [
       "(101100, 16)"
      ]
     },
     "execution_count": 3,
     "metadata": {},
     "output_type": "execute_result"
    }
   ],
   "source": [
    "df.shape"
   ]
  },
  {
   "cell_type": "code",
   "execution_count": 4,
   "metadata": {},
   "outputs": [
    {
     "data": {
      "text/html": [
       "<div>\n",
       "<style scoped>\n",
       "    .dataframe tbody tr th:only-of-type {\n",
       "        vertical-align: middle;\n",
       "    }\n",
       "\n",
       "    .dataframe tbody tr th {\n",
       "        vertical-align: top;\n",
       "    }\n",
       "\n",
       "    .dataframe thead th {\n",
       "        text-align: right;\n",
       "    }\n",
       "</style>\n",
       "<table border=\"1\" class=\"dataframe\">\n",
       "  <thead>\n",
       "    <tr style=\"text-align: right;\">\n",
       "      <th></th>\n",
       "      <th>loan_id</th>\n",
       "      <th>loan_purpose</th>\n",
       "      <th>date</th>\n",
       "      <th>loan_granted</th>\n",
       "      <th>loan_repaid</th>\n",
       "      <th>is_first_loan</th>\n",
       "      <th>fully_repaid_previous_loans</th>\n",
       "      <th>currently_repaying_other_loans</th>\n",
       "      <th>total_credit_card_limit</th>\n",
       "      <th>avg_percentage_credit_card_limit_used_last_year</th>\n",
       "      <th>saving_amount</th>\n",
       "      <th>checking_amount</th>\n",
       "      <th>is_employed</th>\n",
       "      <th>yearly_salary</th>\n",
       "      <th>age</th>\n",
       "      <th>dependent_number</th>\n",
       "    </tr>\n",
       "  </thead>\n",
       "  <tbody>\n",
       "    <tr>\n",
       "      <th>0</th>\n",
       "      <td>19454</td>\n",
       "      <td>investment</td>\n",
       "      <td>2012-03-15</td>\n",
       "      <td>0</td>\n",
       "      <td>NaN</td>\n",
       "      <td>1</td>\n",
       "      <td>NaN</td>\n",
       "      <td>NaN</td>\n",
       "      <td>8600</td>\n",
       "      <td>0.79</td>\n",
       "      <td>1491</td>\n",
       "      <td>6285</td>\n",
       "      <td>1</td>\n",
       "      <td>45200</td>\n",
       "      <td>42</td>\n",
       "      <td>7</td>\n",
       "    </tr>\n",
       "    <tr>\n",
       "      <th>1</th>\n",
       "      <td>496811</td>\n",
       "      <td>investment</td>\n",
       "      <td>2012-01-17</td>\n",
       "      <td>0</td>\n",
       "      <td>NaN</td>\n",
       "      <td>1</td>\n",
       "      <td>NaN</td>\n",
       "      <td>NaN</td>\n",
       "      <td>5300</td>\n",
       "      <td>0.52</td>\n",
       "      <td>141</td>\n",
       "      <td>5793</td>\n",
       "      <td>0</td>\n",
       "      <td>0</td>\n",
       "      <td>42</td>\n",
       "      <td>5</td>\n",
       "    </tr>\n",
       "    <tr>\n",
       "      <th>2</th>\n",
       "      <td>929493</td>\n",
       "      <td>other</td>\n",
       "      <td>2012-02-09</td>\n",
       "      <td>0</td>\n",
       "      <td>NaN</td>\n",
       "      <td>1</td>\n",
       "      <td>NaN</td>\n",
       "      <td>NaN</td>\n",
       "      <td>0</td>\n",
       "      <td>NaN</td>\n",
       "      <td>660</td>\n",
       "      <td>3232</td>\n",
       "      <td>1</td>\n",
       "      <td>26500</td>\n",
       "      <td>60</td>\n",
       "      <td>4</td>\n",
       "    </tr>\n",
       "    <tr>\n",
       "      <th>3</th>\n",
       "      <td>580653</td>\n",
       "      <td>other</td>\n",
       "      <td>2012-06-27</td>\n",
       "      <td>1</td>\n",
       "      <td>1.0</td>\n",
       "      <td>0</td>\n",
       "      <td>1.0</td>\n",
       "      <td>0.0</td>\n",
       "      <td>5400</td>\n",
       "      <td>0.52</td>\n",
       "      <td>3345</td>\n",
       "      <td>2764</td>\n",
       "      <td>1</td>\n",
       "      <td>15800</td>\n",
       "      <td>58</td>\n",
       "      <td>4</td>\n",
       "    </tr>\n",
       "    <tr>\n",
       "      <th>4</th>\n",
       "      <td>172419</td>\n",
       "      <td>business</td>\n",
       "      <td>2012-05-21</td>\n",
       "      <td>1</td>\n",
       "      <td>0.0</td>\n",
       "      <td>1</td>\n",
       "      <td>NaN</td>\n",
       "      <td>NaN</td>\n",
       "      <td>2900</td>\n",
       "      <td>0.76</td>\n",
       "      <td>1050</td>\n",
       "      <td>3695</td>\n",
       "      <td>1</td>\n",
       "      <td>34800</td>\n",
       "      <td>31</td>\n",
       "      <td>4</td>\n",
       "    </tr>\n",
       "  </tbody>\n",
       "</table>\n",
       "</div>"
      ],
      "text/plain": [
       "   loan_id loan_purpose        date  loan_granted  loan_repaid  is_first_loan  \\\n",
       "0    19454   investment  2012-03-15             0          NaN              1   \n",
       "1   496811   investment  2012-01-17             0          NaN              1   \n",
       "2   929493        other  2012-02-09             0          NaN              1   \n",
       "3   580653        other  2012-06-27             1          1.0              0   \n",
       "4   172419     business  2012-05-21             1          0.0              1   \n",
       "\n",
       "   fully_repaid_previous_loans  currently_repaying_other_loans  \\\n",
       "0                          NaN                             NaN   \n",
       "1                          NaN                             NaN   \n",
       "2                          NaN                             NaN   \n",
       "3                          1.0                             0.0   \n",
       "4                          NaN                             NaN   \n",
       "\n",
       "   total_credit_card_limit  avg_percentage_credit_card_limit_used_last_year  \\\n",
       "0                     8600                                             0.79   \n",
       "1                     5300                                             0.52   \n",
       "2                        0                                              NaN   \n",
       "3                     5400                                             0.52   \n",
       "4                     2900                                             0.76   \n",
       "\n",
       "   saving_amount  checking_amount  is_employed  yearly_salary  age  \\\n",
       "0           1491             6285            1          45200   42   \n",
       "1            141             5793            0              0   42   \n",
       "2            660             3232            1          26500   60   \n",
       "3           3345             2764            1          15800   58   \n",
       "4           1050             3695            1          34800   31   \n",
       "\n",
       "   dependent_number  \n",
       "0                 7  \n",
       "1                 5  \n",
       "2                 4  \n",
       "3                 4  \n",
       "4                 4  "
      ]
     },
     "execution_count": 4,
     "metadata": {},
     "output_type": "execute_result"
    }
   ],
   "source": [
    "df.head()"
   ]
  },
  {
   "cell_type": "code",
   "execution_count": 5,
   "metadata": {},
   "outputs": [],
   "source": [
    "df_train = df[df['loan_granted'] == 1].drop(['loan_granted'], axis=1).reset_index(drop=True)  \n",
    "df_test = df[df['loan_granted'] == 0].drop(['loan_granted'], axis=1).reset_index(drop=True)"
   ]
  },
  {
   "cell_type": "markdown",
   "metadata": {},
   "source": [
    "### Define Data class"
   ]
  },
  {
   "cell_type": "code",
   "execution_count": 6,
   "metadata": {},
   "outputs": [],
   "source": [
    "class Data(object):\n",
    "    def __init__(self, df_raw, target_col=None, id_col=None, drop_cols=None, one_hot=False, \n",
    "                 trainset=None):\n",
    "        \"\"\"\n",
    "        Parameters\n",
    "        ----------\n",
    "        df_raw : pandas.core.frame.DataFrame\n",
    "            The input dataframe that will be processed \n",
    "        target_col : str\n",
    "            The column for the target variable (default is None)\n",
    "        id_col : list\n",
    "            The column for loan id (default is None)\n",
    "        drop_cols : list\n",
    "            The columns that will be dropped, in addition to granted_col (default is None)\n",
    "        one_hot : bool, optional\n",
    "            A flag used to decide whether to use one-hot encoding or label encoding (default is False)\n",
    "        trainset : __main__.Data\n",
    "            The Data object of the training set; when it is passed, the four parameters above \n",
    "            are ignored (default is None)\n",
    "        \"\"\"\n",
    "        if trainset:\n",
    "            self.target_col = trainset.target_col\n",
    "            self.id_col = trainset.id_col\n",
    "            self.drop_cols = trainset.drop_cols\n",
    "            self.one_hot = trainset.one_hot\n",
    "            self.label_encoders = trainset.label_encoders\n",
    "            self.standard_scaler = trainset.standard_scaler\n",
    "        else:\n",
    "            self.target_col = target_col\n",
    "            self.id_col = id_col\n",
    "            self.drop_cols = drop_cols\n",
    "            self.one_hot = one_hot\n",
    "            self.label_encoders = {}\n",
    "            self.standard_scaler = None\n",
    "        self.num_cols = []\n",
    "        self.cat_cols = []\n",
    "        self.feature_cols = []\n",
    "        self.df = self._create_df(df_raw)\n",
    "        \n",
    "    def onehot_encode_df(self, df, cols):\n",
    "        \"\"\"perform one-hot encoding on the specified columns\"\"\"\n",
    "        return pd.get_dummies(df, columns=cols)\n",
    "    \n",
    "    def label_encode_df(self, df, cols):\n",
    "        \"\"\"create one label encoder for each of columns specified\"\"\"\n",
    "        for col in cols:\n",
    "            if col in self.label_encoders:\n",
    "                # if label encoder already exits for col, use it\n",
    "                self._label_encode(df, col, self.label_encoders[col])\n",
    "            else:\n",
    "                self._label_encode(df, col)\n",
    "                \n",
    "    def standard_scaler_df(self, df, cols):\n",
    "        \"\"\"perform standardization on the specified columns\"\"\"\n",
    "        \n",
    "        if self.standard_scaler:\n",
    "            df[cols] = self.standard_scaler.transform(df[cols])\n",
    "        else:\n",
    "            scaler = StandardScaler()\n",
    "            df[cols] = scaler.fit_transform(df[cols])\n",
    "            self.standard_scaler = scaler\n",
    "        return df\n",
    "\n",
    "    def _create_df(self, df_raw):\n",
    "        \"\"\"create the processed dataframe\"\"\"\n",
    "        df = self._preprocess(df_raw, self.drop_cols)\n",
    "        self._feature_types(df, self.num_cols, self.cat_cols)\n",
    "        if self.one_hot:\n",
    "            df = self.onehot_encode_df(df, self.cat_cols)\n",
    "        else:\n",
    "            self.label_encode_df(df, self.cat_cols)\n",
    "\n",
    "        self._get_feature_cols(df, self.feature_cols)\n",
    "        if self.one_hot:\n",
    "            df = self.standard_scaler_df(df, self.feature_cols)\n",
    "        return df\n",
    "\n",
    "    def _preprocess(self, df, drop_cols):\n",
    "        \"\"\" \n",
    "        drop the specified useless columns, rename some columns, and then process the data\n",
    "        based on the methodss in another notebook \"loan_eda_modeling.ipynb\"\n",
    "        \"\"\"\n",
    "        df = df.drop(drop_cols, axis=1)\n",
    "        df = self._rename_columns(df)\n",
    "        df = self._clean(df)\n",
    "        return df\n",
    "    \n",
    "    def _rename_columns(self, df):\n",
    "        \"\"\"rename some columns whose names are too long\"\"\"\n",
    "        rename = {\n",
    "            'fully_repaid_previous_loans': 'previous_repaid', \n",
    "            'currently_repaying_other_loans': 'repaying',\n",
    "            'total_credit_card_limit': 'credit_limit', \n",
    "            'avg_percentage_credit_card_limit_used_last_year': 'limit_used'\n",
    "        }\n",
    "        return df.rename(columns=rename)\n",
    "    \n",
    "    def _clean(self, df):\n",
    "        \"\"\"impute missing values, combine saving_amount and checking_amount\"\"\"\n",
    "        if df.limit_used.isnull().sum() > 0:\n",
    "            df.limit_used.fillna(0, inplace=True)\n",
    "        if df.previous_repaid.isnull().sum() > 0:\n",
    "            df.previous_repaid.fillna(-1, inplace=True)\n",
    "        if df.repaying.isnull().sum() > 0:\n",
    "            df.repaying.fillna(-1, inplace=True)\n",
    "        df.previous_repaid.replace({0: 'No', 1: 'Yes', -1: 'NA'}, inplace=True)\n",
    "        df.repaying.replace({0: 'No', 1: 'Yes', -1: 'NA'}, inplace=True)\n",
    "        df['savings'] =  df.saving_amount + df.checking_amount\n",
    "        df = df.drop(['saving_amount', 'checking_amount'], axis=1)\n",
    "        return df\n",
    "    \n",
    "    def _feature_types(self, df, num_cols, cat_cols):\n",
    "        \"\"\"find out which (untransformed) columns are numerical and which are categorical\"\"\"\n",
    "        for col in df.columns:\n",
    "            if df[col].dtype.name == 'object':\n",
    "                cat_cols.append(col)\n",
    "            else:\n",
    "                num_cols.append(col)\n",
    "                                \n",
    "    def _label_encode(self, df, col, le=None):\n",
    "        \"\"\"perform label encoding for the specified column\"\"\"\n",
    "        if le:\n",
    "            df[col] = le.transform(df[col])\n",
    "        else:\n",
    "            le = LabelEncoder()\n",
    "            df[col] = le.fit_transform(df[col])\n",
    "            self.label_encoders[col] = le\n",
    "            \n",
    "    def _get_feature_cols(self, df, feature_cols):\n",
    "        \"\"\"find out which (transformed) columns are the features\"\"\"\n",
    "        for col in df.columns:\n",
    "            if col != self.id_col and col != self.target_col:\n",
    "                feature_cols.append(col)"
   ]
  },
  {
   "cell_type": "markdown",
   "metadata": {},
   "source": [
    "### Define Model class"
   ]
  },
  {
   "cell_type": "code",
   "execution_count": 7,
   "metadata": {},
   "outputs": [],
   "source": [
    "class Model(object):\n",
    "    def __init__(self):\n",
    "        self.model = None\n",
    "        self.best_model = None\n",
    "        self.cv_score = 0\n",
    "        self.trainset = None\n",
    "\n",
    "    def train(self, data, model=\"RF\", scoring=\"roc_auc\", k=3, tune=True):\n",
    "        \"\"\"train the specified model and get cross-validation score\n",
    "                \n",
    "        Parameters\n",
    "        ----------\n",
    "        data : __main__.Data\n",
    "            The Data object\n",
    "        model : str\n",
    "            The model type, \"RF\" or \"LR\" (default is \"RF\")\n",
    "        scoring : str\n",
    "            The evalution metric (default is \"roc_auc\")\n",
    "            See https://scikit-learn.org/stable/modules/model_evaluation.html\n",
    "        k : int\n",
    "            The number of folds for cross validation (default is 3)\n",
    "        tune : bool\n",
    "            Whether to run a grid search to tune the model (default is True)\n",
    "        \"\"\"\n",
    "        self.trainset = data\n",
    "        if tune:\n",
    "            self.best_model = self._grid_search(self.trainset, model, scoring, k)\n",
    "        else:\n",
    "            self.best_model = self._get_model(self.trainset, model, scoring, k)\n",
    "        self.model = model\n",
    "            \n",
    "    def _grid_search(self, data, model, scoring, k):\n",
    "        \"\"\"run a grid search with cross validation to fine-tune the model\"\"\"\n",
    "        features = data.df[data.feature_cols]\n",
    "        target = data.df[data.target_col]\n",
    "        if model == \"LR\":\n",
    "            clf = LogisticRegression()\n",
    "            parameters = {\"C\": 0.001*10**(np.arange(0, 1.01, 0.01)*3)}\n",
    "        elif model == \"RF\":\n",
    "            clf = RandomForestClassifier(n_estimators=50, random_state=0)\n",
    "            parameters = {\n",
    "                \"max_features\": [2, 3, 4, 5], \n",
    "                \"min_samples_split\": [2, 3, 4, 5], \n",
    "                \"max_depth\": range(10, 15)}\n",
    "        else:\n",
    "            raise ValueError('model has to be \"LR\" or \"RF\"!')\n",
    "        grid_search = GridSearchCV(estimator=clf, cv=k, param_grid=parameters, scoring=scoring, n_jobs=-1)\n",
    "        grid_search = grid_search.fit(features, target)\n",
    "        self.cv_score = grid_search.best_score_\n",
    "        return grid_search.best_estimator_\n",
    "    \n",
    "    def _get_model(self, data, model, scoring, k):\n",
    "        \"\"\"use pre-selected hyperparameters for the model and compute cross-validation score\"\"\"\n",
    "        features = data.df[data.feature_cols]\n",
    "        target = data.df[data.target_col]\n",
    "        if model == \"LR\":\n",
    "            clf = LogisticRegression(C=0.0224)\n",
    "        elif model == \"RF\":\n",
    "            clf = RandomForestClassifier(n_estimators=50, \n",
    "                                         max_features=2, \n",
    "                                         min_samples_split=3, \n",
    "                                         max_depth=12, \n",
    "                                         random_state=0)\n",
    "        else:\n",
    "            raise ValueError('model has to be \"LR\" or \"RF\"!')\n",
    "        self.cv_score = self._cross_validate(clf, features, target, scoring, k)\n",
    "        clf.fit(features, target)\n",
    "        return clf\n",
    "    \n",
    "    def predict(self, data):\n",
    "        \"\"\"use the trained model to make predictions for a given dataset\"\"\"\n",
    "        features = data.df[data.feature_cols]\n",
    "        return self.best_model.predict_proba(features)[:, 1]\n",
    "    \n",
    "    def _cross_validate(self, model, features, target, scoring, k):\n",
    "        \"\"\"compute cross-validation score using the training data\"\"\"\n",
    "        return cross_val_score(model, features, target, cv=k, n_jobs=-1, scoring=scoring).mean()\n",
    "        \n",
    "    def _get_feature_importance(self, model, cols):\n",
    "        \"\"\"retrieves and sorts the feature importances\"\"\"\n",
    "        imp = model.feature_importances_ \n",
    "        sorted_importances = sorted(zip(imp, cols), reverse=True)\n",
    "        importances = [i for i, _ in sorted_importances]\n",
    "        feature = [i for _, i in sorted_importances]\n",
    "        return pd.DataFrame({'importances': importances}, index=feature)\n",
    "\n",
    "    def _get_coefficients(self, model, cols):\n",
    "        \"\"\"retrieves and sorts the coefficients of logistic regression\"\"\"\n",
    "        coefs = model.coef_.reshape(-1)      \n",
    "        sorted_coefficients = sorted(zip(coefs, cols), key = lambda x: -abs(x[0]))\n",
    "        coefficients = [i for i, _ in sorted_coefficients]\n",
    "        feature = [i for _, i in sorted_coefficients]\n",
    "        return pd.DataFrame({'coefficients': coefficients}, index=feature)\n",
    "\n",
    "    def print_summary(self):\n",
    "        \"\"\"generate summary of the model, cross-validation score, and feature importance\"\"\"\n",
    "        print(\"--- Model Summaries ---\\n\")\n",
    "        print(self.best_model)\n",
    "        print(\"\\nCross-validation Score: \" + str(self.cv_score))\n",
    "        # plt.figure(figsize=(8, 6))\n",
    "        if self.model == \"RF\":\n",
    "            print(\"\\nFeature Importances:\\n\")\n",
    "            feature_importances = self._get_feature_importance(self.best_model, self.trainset.feature_cols)\n",
    "            print(feature_importances)\n",
    "            feature_importances.plot.bar(figsize=(8, 6))\n",
    "            plt.show()\n",
    "        if self.model == \"LR\":\n",
    "            print(\"\\nCoefficients:\\n\")\n",
    "            coefficients = self._get_coefficients(self.best_model, self.trainset.feature_cols)\n",
    "            print(coefficients)\n",
    "            coefficients.plot.bar(figsize=(8, 6))\n",
    "            plt.show()\n",
    "            \n",
    "    def explainability(self, data):\n",
    "        \"\"\"\n",
    "        use the trained model to generate the bias term and the individual-level feature contributions \n",
    "        for the predictions of the given dataset\n",
    "        \"\"\"\n",
    "        features = data.df[data.feature_cols].values\n",
    "        if self.model == \"LR\":    \n",
    "            contributions = features * self.best_model.coef_.reshape(1, -1)\n",
    "            bias = self.best_model.intercept_[0]\n",
    "        if self.model == \"RF\":\n",
    "            _, bias, contrib = ti.predict(self.best_model, features)\n",
    "            contributions = contrib[:, :, 1]\n",
    "            bias = bias[0, 1]\n",
    "        return bias, contributions"
   ]
  },
  {
   "cell_type": "markdown",
   "metadata": {},
   "source": [
    "### Logistic Regression Example"
   ]
  },
  {
   "cell_type": "markdown",
   "metadata": {},
   "source": [
    "##### Define parameters"
   ]
  },
  {
   "cell_type": "code",
   "execution_count": 8,
   "metadata": {},
   "outputs": [],
   "source": [
    "target_col = 'loan_repaid'\n",
    "id_col = 'loan_id'\n",
    "drop_cols = ['date', 'is_first_loan', 'age', 'is_employed']\n",
    "one_hot = True"
   ]
  },
  {
   "cell_type": "markdown",
   "metadata": {},
   "source": [
    "##### Create the Data objects"
   ]
  },
  {
   "cell_type": "code",
   "execution_count": 9,
   "metadata": {},
   "outputs": [],
   "source": [
    "data_train = Data(df_train, target_col, id_col, drop_cols, one_hot)\n",
    "data_test = Data(df_test, trainset=data_train)"
   ]
  },
  {
   "cell_type": "code",
   "execution_count": 10,
   "metadata": {},
   "outputs": [
    {
     "data": {
      "text/html": [
       "<div>\n",
       "<style scoped>\n",
       "    .dataframe tbody tr th:only-of-type {\n",
       "        vertical-align: middle;\n",
       "    }\n",
       "\n",
       "    .dataframe tbody tr th {\n",
       "        vertical-align: top;\n",
       "    }\n",
       "\n",
       "    .dataframe thead th {\n",
       "        text-align: right;\n",
       "    }\n",
       "</style>\n",
       "<table border=\"1\" class=\"dataframe\">\n",
       "  <thead>\n",
       "    <tr style=\"text-align: right;\">\n",
       "      <th></th>\n",
       "      <th>loan_id</th>\n",
       "      <th>loan_repaid</th>\n",
       "      <th>credit_limit</th>\n",
       "      <th>limit_used</th>\n",
       "      <th>yearly_salary</th>\n",
       "      <th>dependent_number</th>\n",
       "      <th>savings</th>\n",
       "      <th>loan_purpose_business</th>\n",
       "      <th>loan_purpose_emergency_funds</th>\n",
       "      <th>loan_purpose_home</th>\n",
       "      <th>loan_purpose_investment</th>\n",
       "      <th>loan_purpose_other</th>\n",
       "      <th>previous_repaid_NA</th>\n",
       "      <th>previous_repaid_No</th>\n",
       "      <th>previous_repaid_Yes</th>\n",
       "      <th>repaying_NA</th>\n",
       "      <th>repaying_No</th>\n",
       "      <th>repaying_Yes</th>\n",
       "    </tr>\n",
       "  </thead>\n",
       "  <tbody>\n",
       "    <tr>\n",
       "      <th>0</th>\n",
       "      <td>580653</td>\n",
       "      <td>1.0</td>\n",
       "      <td>0.441572</td>\n",
       "      <td>-0.833087</td>\n",
       "      <td>-0.825599</td>\n",
       "      <td>0.094439</td>\n",
       "      <td>0.202610</td>\n",
       "      <td>-0.540464</td>\n",
       "      <td>-0.440801</td>\n",
       "      <td>-0.567673</td>\n",
       "      <td>-0.534952</td>\n",
       "      <td>2.428041</td>\n",
       "      <td>-1.086032</td>\n",
       "      <td>-0.216413</td>\n",
       "      <td>1.189512</td>\n",
       "      <td>-1.086032</td>\n",
       "      <td>1.450339</td>\n",
       "      <td>-0.397775</td>\n",
       "    </tr>\n",
       "    <tr>\n",
       "      <th>1</th>\n",
       "      <td>172419</td>\n",
       "      <td>0.0</td>\n",
       "      <td>-0.824183</td>\n",
       "      <td>0.365419</td>\n",
       "      <td>0.341022</td>\n",
       "      <td>0.094439</td>\n",
       "      <td>-0.267811</td>\n",
       "      <td>1.850261</td>\n",
       "      <td>-0.440801</td>\n",
       "      <td>-0.567673</td>\n",
       "      <td>-0.534952</td>\n",
       "      <td>-0.411855</td>\n",
       "      <td>0.920783</td>\n",
       "      <td>-0.216413</td>\n",
       "      <td>-0.840681</td>\n",
       "      <td>0.920783</td>\n",
       "      <td>-0.689494</td>\n",
       "      <td>-0.397775</td>\n",
       "    </tr>\n",
       "    <tr>\n",
       "      <th>2</th>\n",
       "      <td>780070</td>\n",
       "      <td>1.0</td>\n",
       "      <td>1.656696</td>\n",
       "      <td>-1.931717</td>\n",
       "      <td>1.341861</td>\n",
       "      <td>-0.668534</td>\n",
       "      <td>1.052748</td>\n",
       "      <td>1.850261</td>\n",
       "      <td>-0.440801</td>\n",
       "      <td>-0.567673</td>\n",
       "      <td>-0.534952</td>\n",
       "      <td>-0.411855</td>\n",
       "      <td>-1.086032</td>\n",
       "      <td>-0.216413</td>\n",
       "      <td>1.189512</td>\n",
       "      <td>-1.086032</td>\n",
       "      <td>1.450339</td>\n",
       "      <td>-0.397775</td>\n",
       "    </tr>\n",
       "    <tr>\n",
       "      <th>3</th>\n",
       "      <td>303138</td>\n",
       "      <td>0.0</td>\n",
       "      <td>-0.115360</td>\n",
       "      <td>1.663801</td>\n",
       "      <td>-0.874720</td>\n",
       "      <td>-0.668534</td>\n",
       "      <td>-1.047938</td>\n",
       "      <td>-0.540464</td>\n",
       "      <td>2.268595</td>\n",
       "      <td>-0.567673</td>\n",
       "      <td>-0.534952</td>\n",
       "      <td>-0.411855</td>\n",
       "      <td>-1.086032</td>\n",
       "      <td>4.620799</td>\n",
       "      <td>-0.840681</td>\n",
       "      <td>-1.086032</td>\n",
       "      <td>-0.689494</td>\n",
       "      <td>2.513985</td>\n",
       "    </tr>\n",
       "    <tr>\n",
       "      <th>4</th>\n",
       "      <td>91475</td>\n",
       "      <td>1.0</td>\n",
       "      <td>-0.317881</td>\n",
       "      <td>-0.183896</td>\n",
       "      <td>-1.058924</td>\n",
       "      <td>-1.050021</td>\n",
       "      <td>0.038100</td>\n",
       "      <td>-0.540464</td>\n",
       "      <td>-0.440801</td>\n",
       "      <td>-0.567673</td>\n",
       "      <td>1.869328</td>\n",
       "      <td>-0.411855</td>\n",
       "      <td>-1.086032</td>\n",
       "      <td>-0.216413</td>\n",
       "      <td>1.189512</td>\n",
       "      <td>-1.086032</td>\n",
       "      <td>1.450339</td>\n",
       "      <td>-0.397775</td>\n",
       "    </tr>\n",
       "  </tbody>\n",
       "</table>\n",
       "</div>"
      ],
      "text/plain": [
       "   loan_id  loan_repaid  credit_limit  limit_used  yearly_salary  \\\n",
       "0   580653          1.0      0.441572   -0.833087      -0.825599   \n",
       "1   172419          0.0     -0.824183    0.365419       0.341022   \n",
       "2   780070          1.0      1.656696   -1.931717       1.341861   \n",
       "3   303138          0.0     -0.115360    1.663801      -0.874720   \n",
       "4    91475          1.0     -0.317881   -0.183896      -1.058924   \n",
       "\n",
       "   dependent_number   savings  loan_purpose_business  \\\n",
       "0          0.094439  0.202610              -0.540464   \n",
       "1          0.094439 -0.267811               1.850261   \n",
       "2         -0.668534  1.052748               1.850261   \n",
       "3         -0.668534 -1.047938              -0.540464   \n",
       "4         -1.050021  0.038100              -0.540464   \n",
       "\n",
       "   loan_purpose_emergency_funds  loan_purpose_home  loan_purpose_investment  \\\n",
       "0                     -0.440801          -0.567673                -0.534952   \n",
       "1                     -0.440801          -0.567673                -0.534952   \n",
       "2                     -0.440801          -0.567673                -0.534952   \n",
       "3                      2.268595          -0.567673                -0.534952   \n",
       "4                     -0.440801          -0.567673                 1.869328   \n",
       "\n",
       "   loan_purpose_other  previous_repaid_NA  previous_repaid_No  \\\n",
       "0            2.428041           -1.086032           -0.216413   \n",
       "1           -0.411855            0.920783           -0.216413   \n",
       "2           -0.411855           -1.086032           -0.216413   \n",
       "3           -0.411855           -1.086032            4.620799   \n",
       "4           -0.411855           -1.086032           -0.216413   \n",
       "\n",
       "   previous_repaid_Yes  repaying_NA  repaying_No  repaying_Yes  \n",
       "0             1.189512    -1.086032     1.450339     -0.397775  \n",
       "1            -0.840681     0.920783    -0.689494     -0.397775  \n",
       "2             1.189512    -1.086032     1.450339     -0.397775  \n",
       "3            -0.840681    -1.086032    -0.689494      2.513985  \n",
       "4             1.189512    -1.086032     1.450339     -0.397775  "
      ]
     },
     "execution_count": 10,
     "metadata": {},
     "output_type": "execute_result"
    }
   ],
   "source": [
    "data_train.df.head()"
   ]
  },
  {
   "cell_type": "code",
   "execution_count": 11,
   "metadata": {},
   "outputs": [
    {
     "data": {
      "text/html": [
       "<div>\n",
       "<style scoped>\n",
       "    .dataframe tbody tr th:only-of-type {\n",
       "        vertical-align: middle;\n",
       "    }\n",
       "\n",
       "    .dataframe tbody tr th {\n",
       "        vertical-align: top;\n",
       "    }\n",
       "\n",
       "    .dataframe thead th {\n",
       "        text-align: right;\n",
       "    }\n",
       "</style>\n",
       "<table border=\"1\" class=\"dataframe\">\n",
       "  <thead>\n",
       "    <tr style=\"text-align: right;\">\n",
       "      <th></th>\n",
       "      <th>loan_id</th>\n",
       "      <th>loan_repaid</th>\n",
       "      <th>credit_limit</th>\n",
       "      <th>limit_used</th>\n",
       "      <th>yearly_salary</th>\n",
       "      <th>dependent_number</th>\n",
       "      <th>savings</th>\n",
       "      <th>loan_purpose_business</th>\n",
       "      <th>loan_purpose_emergency_funds</th>\n",
       "      <th>loan_purpose_home</th>\n",
       "      <th>loan_purpose_investment</th>\n",
       "      <th>loan_purpose_other</th>\n",
       "      <th>previous_repaid_NA</th>\n",
       "      <th>previous_repaid_No</th>\n",
       "      <th>previous_repaid_Yes</th>\n",
       "      <th>repaying_NA</th>\n",
       "      <th>repaying_No</th>\n",
       "      <th>repaying_Yes</th>\n",
       "    </tr>\n",
       "  </thead>\n",
       "  <tbody>\n",
       "    <tr>\n",
       "      <th>0</th>\n",
       "      <td>19454</td>\n",
       "      <td>NaN</td>\n",
       "      <td>2.061738</td>\n",
       "      <td>0.515233</td>\n",
       "      <td>0.979594</td>\n",
       "      <td>1.238899</td>\n",
       "      <td>0.777531</td>\n",
       "      <td>-0.540464</td>\n",
       "      <td>-0.440801</td>\n",
       "      <td>-0.567673</td>\n",
       "      <td>1.869328</td>\n",
       "      <td>-0.411855</td>\n",
       "      <td>0.920783</td>\n",
       "      <td>-0.216413</td>\n",
       "      <td>-0.840681</td>\n",
       "      <td>0.920783</td>\n",
       "      <td>-0.689494</td>\n",
       "      <td>-0.397775</td>\n",
       "    </tr>\n",
       "    <tr>\n",
       "      <th>1</th>\n",
       "      <td>496811</td>\n",
       "      <td>NaN</td>\n",
       "      <td>0.390942</td>\n",
       "      <td>-0.833087</td>\n",
       "      <td>-1.795737</td>\n",
       "      <td>0.475926</td>\n",
       "      <td>0.142255</td>\n",
       "      <td>-0.540464</td>\n",
       "      <td>-0.440801</td>\n",
       "      <td>-0.567673</td>\n",
       "      <td>1.869328</td>\n",
       "      <td>-0.411855</td>\n",
       "      <td>0.920783</td>\n",
       "      <td>-0.216413</td>\n",
       "      <td>-0.840681</td>\n",
       "      <td>0.920783</td>\n",
       "      <td>-0.689494</td>\n",
       "      <td>-0.397775</td>\n",
       "    </tr>\n",
       "    <tr>\n",
       "      <th>2</th>\n",
       "      <td>929493</td>\n",
       "      <td>NaN</td>\n",
       "      <td>-2.292458</td>\n",
       "      <td>-3.429849</td>\n",
       "      <td>-0.168607</td>\n",
       "      <td>0.094439</td>\n",
       "      <td>-0.561997</td>\n",
       "      <td>-0.540464</td>\n",
       "      <td>-0.440801</td>\n",
       "      <td>-0.567673</td>\n",
       "      <td>-0.534952</td>\n",
       "      <td>2.428041</td>\n",
       "      <td>0.920783</td>\n",
       "      <td>-0.216413</td>\n",
       "      <td>-0.840681</td>\n",
       "      <td>0.920783</td>\n",
       "      <td>-0.689494</td>\n",
       "      <td>-0.397775</td>\n",
       "    </tr>\n",
       "    <tr>\n",
       "      <th>3</th>\n",
       "      <td>77085</td>\n",
       "      <td>NaN</td>\n",
       "      <td>-0.773553</td>\n",
       "      <td>0.665046</td>\n",
       "      <td>-1.795737</td>\n",
       "      <td>-0.287048</td>\n",
       "      <td>-0.422319</td>\n",
       "      <td>-0.540464</td>\n",
       "      <td>-0.440801</td>\n",
       "      <td>-0.567673</td>\n",
       "      <td>-0.534952</td>\n",
       "      <td>2.428041</td>\n",
       "      <td>0.920783</td>\n",
       "      <td>-0.216413</td>\n",
       "      <td>-0.840681</td>\n",
       "      <td>0.920783</td>\n",
       "      <td>-0.689494</td>\n",
       "      <td>-0.397775</td>\n",
       "    </tr>\n",
       "    <tr>\n",
       "      <th>4</th>\n",
       "      <td>422392</td>\n",
       "      <td>NaN</td>\n",
       "      <td>-1.786156</td>\n",
       "      <td>2.013365</td>\n",
       "      <td>-1.795737</td>\n",
       "      <td>-0.668534</td>\n",
       "      <td>-1.372473</td>\n",
       "      <td>1.850261</td>\n",
       "      <td>-0.440801</td>\n",
       "      <td>-0.567673</td>\n",
       "      <td>-0.534952</td>\n",
       "      <td>-0.411855</td>\n",
       "      <td>-1.086032</td>\n",
       "      <td>-0.216413</td>\n",
       "      <td>1.189512</td>\n",
       "      <td>-1.086032</td>\n",
       "      <td>-0.689494</td>\n",
       "      <td>2.513985</td>\n",
       "    </tr>\n",
       "  </tbody>\n",
       "</table>\n",
       "</div>"
      ],
      "text/plain": [
       "   loan_id  loan_repaid  credit_limit  limit_used  yearly_salary  \\\n",
       "0    19454          NaN      2.061738    0.515233       0.979594   \n",
       "1   496811          NaN      0.390942   -0.833087      -1.795737   \n",
       "2   929493          NaN     -2.292458   -3.429849      -0.168607   \n",
       "3    77085          NaN     -0.773553    0.665046      -1.795737   \n",
       "4   422392          NaN     -1.786156    2.013365      -1.795737   \n",
       "\n",
       "   dependent_number   savings  loan_purpose_business  \\\n",
       "0          1.238899  0.777531              -0.540464   \n",
       "1          0.475926  0.142255              -0.540464   \n",
       "2          0.094439 -0.561997              -0.540464   \n",
       "3         -0.287048 -0.422319              -0.540464   \n",
       "4         -0.668534 -1.372473               1.850261   \n",
       "\n",
       "   loan_purpose_emergency_funds  loan_purpose_home  loan_purpose_investment  \\\n",
       "0                     -0.440801          -0.567673                 1.869328   \n",
       "1                     -0.440801          -0.567673                 1.869328   \n",
       "2                     -0.440801          -0.567673                -0.534952   \n",
       "3                     -0.440801          -0.567673                -0.534952   \n",
       "4                     -0.440801          -0.567673                -0.534952   \n",
       "\n",
       "   loan_purpose_other  previous_repaid_NA  previous_repaid_No  \\\n",
       "0           -0.411855            0.920783           -0.216413   \n",
       "1           -0.411855            0.920783           -0.216413   \n",
       "2            2.428041            0.920783           -0.216413   \n",
       "3            2.428041            0.920783           -0.216413   \n",
       "4           -0.411855           -1.086032           -0.216413   \n",
       "\n",
       "   previous_repaid_Yes  repaying_NA  repaying_No  repaying_Yes  \n",
       "0            -0.840681     0.920783    -0.689494     -0.397775  \n",
       "1            -0.840681     0.920783    -0.689494     -0.397775  \n",
       "2            -0.840681     0.920783    -0.689494     -0.397775  \n",
       "3            -0.840681     0.920783    -0.689494     -0.397775  \n",
       "4             1.189512    -1.086032    -0.689494      2.513985  "
      ]
     },
     "execution_count": 11,
     "metadata": {},
     "output_type": "execute_result"
    }
   ],
   "source": [
    "data_test.df.head()"
   ]
  },
  {
   "cell_type": "code",
   "execution_count": 12,
   "metadata": {},
   "outputs": [
    {
     "data": {
      "text/plain": [
       "['credit_limit',\n",
       " 'limit_used',\n",
       " 'yearly_salary',\n",
       " 'dependent_number',\n",
       " 'savings',\n",
       " 'loan_purpose_business',\n",
       " 'loan_purpose_emergency_funds',\n",
       " 'loan_purpose_home',\n",
       " 'loan_purpose_investment',\n",
       " 'loan_purpose_other',\n",
       " 'previous_repaid_NA',\n",
       " 'previous_repaid_No',\n",
       " 'previous_repaid_Yes',\n",
       " 'repaying_NA',\n",
       " 'repaying_No',\n",
       " 'repaying_Yes']"
      ]
     },
     "execution_count": 12,
     "metadata": {},
     "output_type": "execute_result"
    }
   ],
   "source": [
    "data_train.feature_cols"
   ]
  },
  {
   "cell_type": "code",
   "execution_count": 13,
   "metadata": {},
   "outputs": [
    {
     "data": {
      "text/plain": [
       "['credit_limit',\n",
       " 'limit_used',\n",
       " 'yearly_salary',\n",
       " 'dependent_number',\n",
       " 'savings',\n",
       " 'loan_purpose_business',\n",
       " 'loan_purpose_emergency_funds',\n",
       " 'loan_purpose_home',\n",
       " 'loan_purpose_investment',\n",
       " 'loan_purpose_other',\n",
       " 'previous_repaid_NA',\n",
       " 'previous_repaid_No',\n",
       " 'previous_repaid_Yes',\n",
       " 'repaying_NA',\n",
       " 'repaying_No',\n",
       " 'repaying_Yes']"
      ]
     },
     "execution_count": 13,
     "metadata": {},
     "output_type": "execute_result"
    }
   ],
   "source": [
    "data_test.feature_cols"
   ]
  },
  {
   "cell_type": "markdown",
   "metadata": {},
   "source": [
    "##### Create a Model object, train a Logistic Regression, make predictions for the test set, and generate model explainability"
   ]
  },
  {
   "cell_type": "code",
   "execution_count": 14,
   "metadata": {},
   "outputs": [],
   "source": [
    "model = Model()\n",
    "model.train(data_train, model=\"LR\", scoring='roc_auc', k=3, tune=False)"
   ]
  },
  {
   "cell_type": "code",
   "execution_count": 15,
   "metadata": {},
   "outputs": [
    {
     "data": {
      "text/plain": [
       "array([0.99917242, 0.78636025, 0.24080582, ..., 0.00175946, 0.00384931,\n",
       "       0.09246106])"
      ]
     },
     "execution_count": 15,
     "metadata": {},
     "output_type": "execute_result"
    }
   ],
   "source": [
    "preds = model.predict(data_test)\n",
    "preds"
   ]
  },
  {
   "cell_type": "code",
   "execution_count": 16,
   "metadata": {},
   "outputs": [],
   "source": [
    "# get the bias term and the feature contributions \n",
    "bias, contrib = model.explainability(data_test)"
   ]
  },
  {
   "cell_type": "code",
   "execution_count": 17,
   "metadata": {},
   "outputs": [
    {
     "data": {
      "text/plain": [
       "1.97117114732229"
      ]
     },
     "execution_count": 17,
     "metadata": {},
     "output_type": "execute_result"
    }
   ],
   "source": [
    "bias"
   ]
  },
  {
   "cell_type": "code",
   "execution_count": 18,
   "metadata": {},
   "outputs": [
    {
     "data": {
      "text/plain": [
       "(53446, 16)"
      ]
     },
     "execution_count": 18,
     "metadata": {},
     "output_type": "execute_result"
    }
   ],
   "source": [
    "contrib.shape"
   ]
  },
  {
   "cell_type": "markdown",
   "metadata": {},
   "source": [
    "For each example $i$, the prediction $p_i$ = $sigmoid(bias + \\sum_{j} contrib_{ij})$, where $j$ is the index for the features:"
   ]
  },
  {
   "cell_type": "code",
   "execution_count": 19,
   "metadata": {},
   "outputs": [
    {
     "data": {
      "text/plain": [
       "array([0.99917242, 0.78636025, 0.24080582, ..., 0.00175946, 0.00384931,\n",
       "       0.09246106])"
      ]
     },
     "execution_count": 19,
     "metadata": {},
     "output_type": "execute_result"
    }
   ],
   "source": [
    "def sigmoid(x):\n",
    "    return 1 / (1 + np.exp(-x))\n",
    "\n",
    "sigmoid(bias + contrib.sum(axis=1)) # same as the predictions above"
   ]
  },
  {
   "cell_type": "code",
   "execution_count": 20,
   "metadata": {},
   "outputs": [
    {
     "name": "stdout",
     "output_type": "stream",
     "text": [
      "--- Model Summaries ---\n",
      "\n",
      "LogisticRegression(C=0.0224, class_weight=None, dual=False, fit_intercept=True,\n",
      "                   intercept_scaling=1, l1_ratio=None, max_iter=100,\n",
      "                   multi_class='warn', n_jobs=None, penalty='l2',\n",
      "                   random_state=None, solver='warn', tol=0.0001, verbose=0,\n",
      "                   warm_start=False)\n",
      "\n",
      "Cross-validation Score: 0.9629836750766384\n",
      "\n",
      "Coefficients:\n",
      "\n",
      "                              coefficients\n",
      "savings                           2.809914\n",
      "yearly_salary                     1.097169\n",
      "credit_limit                      1.034950\n",
      "repaying_Yes                     -0.493231\n",
      "limit_used                       -0.424156\n",
      "repaying_No                       0.351724\n",
      "dependent_number                 -0.254687\n",
      "loan_purpose_emergency_funds     -0.226838\n",
      "loan_purpose_business             0.146685\n",
      "loan_purpose_other               -0.131474\n",
      "loan_purpose_investment           0.127179\n",
      "previous_repaid_No               -0.050359\n",
      "loan_purpose_home                 0.036722\n",
      "previous_repaid_Yes               0.010938\n",
      "previous_repaid_NA                0.010080\n",
      "repaying_NA                       0.010080\n"
     ]
    },
    {
     "data": {
      "image/png": "[encoded data removed]",
      "text/plain": [
       "<Figure size 576x432 with 1 Axes>"
      ]
     },
     "metadata": {
      "needs_background": "light"
     },
     "output_type": "display_data"
    }
   ],
   "source": [
    "model.print_summary()"
   ]
  },
  {
   "cell_type": "markdown",
   "metadata": {},
   "source": [
    "### Random Forest Example"
   ]
  },
  {
   "cell_type": "markdown",
   "metadata": {},
   "source": [
    "##### Define parameters"
   ]
  },
  {
   "cell_type": "code",
   "execution_count": 21,
   "metadata": {},
   "outputs": [],
   "source": [
    "# same as above except one-hot encoding is not needed this time\n",
    "one_hot = False"
   ]
  },
  {
   "cell_type": "markdown",
   "metadata": {},
   "source": [
    "##### Create the Data objects"
   ]
  },
  {
   "cell_type": "code",
   "execution_count": 22,
   "metadata": {},
   "outputs": [],
   "source": [
    "data_train = Data(df_train, target_col, id_col, drop_cols, one_hot)\n",
    "data_test = Data(df_test, trainset=data_train)"
   ]
  },
  {
   "cell_type": "code",
   "execution_count": 23,
   "metadata": {},
   "outputs": [
    {
     "data": {
      "text/html": [
       "<div>\n",
       "<style scoped>\n",
       "    .dataframe tbody tr th:only-of-type {\n",
       "        vertical-align: middle;\n",
       "    }\n",
       "\n",
       "    .dataframe tbody tr th {\n",
       "        vertical-align: top;\n",
       "    }\n",
       "\n",
       "    .dataframe thead th {\n",
       "        text-align: right;\n",
       "    }\n",
       "</style>\n",
       "<table border=\"1\" class=\"dataframe\">\n",
       "  <thead>\n",
       "    <tr style=\"text-align: right;\">\n",
       "      <th></th>\n",
       "      <th>loan_id</th>\n",
       "      <th>loan_purpose</th>\n",
       "      <th>loan_repaid</th>\n",
       "      <th>previous_repaid</th>\n",
       "      <th>repaying</th>\n",
       "      <th>credit_limit</th>\n",
       "      <th>limit_used</th>\n",
       "      <th>yearly_salary</th>\n",
       "      <th>dependent_number</th>\n",
       "      <th>savings</th>\n",
       "    </tr>\n",
       "  </thead>\n",
       "  <tbody>\n",
       "    <tr>\n",
       "      <th>0</th>\n",
       "      <td>580653</td>\n",
       "      <td>4</td>\n",
       "      <td>1.0</td>\n",
       "      <td>2</td>\n",
       "      <td>1</td>\n",
       "      <td>5400</td>\n",
       "      <td>0.52</td>\n",
       "      <td>15800</td>\n",
       "      <td>4</td>\n",
       "      <td>6109</td>\n",
       "    </tr>\n",
       "    <tr>\n",
       "      <th>1</th>\n",
       "      <td>172419</td>\n",
       "      <td>0</td>\n",
       "      <td>0.0</td>\n",
       "      <td>0</td>\n",
       "      <td>0</td>\n",
       "      <td>2900</td>\n",
       "      <td>0.76</td>\n",
       "      <td>34800</td>\n",
       "      <td>4</td>\n",
       "      <td>4745</td>\n",
       "    </tr>\n",
       "    <tr>\n",
       "      <th>2</th>\n",
       "      <td>780070</td>\n",
       "      <td>0</td>\n",
       "      <td>1.0</td>\n",
       "      <td>2</td>\n",
       "      <td>1</td>\n",
       "      <td>7800</td>\n",
       "      <td>0.30</td>\n",
       "      <td>51100</td>\n",
       "      <td>2</td>\n",
       "      <td>8574</td>\n",
       "    </tr>\n",
       "    <tr>\n",
       "      <th>3</th>\n",
       "      <td>303138</td>\n",
       "      <td>1</td>\n",
       "      <td>0.0</td>\n",
       "      <td>1</td>\n",
       "      <td>2</td>\n",
       "      <td>4300</td>\n",
       "      <td>1.02</td>\n",
       "      <td>15000</td>\n",
       "      <td>2</td>\n",
       "      <td>2483</td>\n",
       "    </tr>\n",
       "    <tr>\n",
       "      <th>4</th>\n",
       "      <td>91475</td>\n",
       "      <td>3</td>\n",
       "      <td>1.0</td>\n",
       "      <td>2</td>\n",
       "      <td>1</td>\n",
       "      <td>3900</td>\n",
       "      <td>0.65</td>\n",
       "      <td>12000</td>\n",
       "      <td>1</td>\n",
       "      <td>5632</td>\n",
       "    </tr>\n",
       "  </tbody>\n",
       "</table>\n",
       "</div>"
      ],
      "text/plain": [
       "   loan_id  loan_purpose  loan_repaid  previous_repaid  repaying  \\\n",
       "0   580653             4          1.0                2         1   \n",
       "1   172419             0          0.0                0         0   \n",
       "2   780070             0          1.0                2         1   \n",
       "3   303138             1          0.0                1         2   \n",
       "4    91475             3          1.0                2         1   \n",
       "\n",
       "   credit_limit  limit_used  yearly_salary  dependent_number  savings  \n",
       "0          5400        0.52          15800                 4     6109  \n",
       "1          2900        0.76          34800                 4     4745  \n",
       "2          7800        0.30          51100                 2     8574  \n",
       "3          4300        1.02          15000                 2     2483  \n",
       "4          3900        0.65          12000                 1     5632  "
      ]
     },
     "execution_count": 23,
     "metadata": {},
     "output_type": "execute_result"
    }
   ],
   "source": [
    "data_train.df.head()"
   ]
  },
  {
   "cell_type": "code",
   "execution_count": 24,
   "metadata": {},
   "outputs": [
    {
     "data": {
      "text/html": [
       "<div>\n",
       "<style scoped>\n",
       "    .dataframe tbody tr th:only-of-type {\n",
       "        vertical-align: middle;\n",
       "    }\n",
       "\n",
       "    .dataframe tbody tr th {\n",
       "        vertical-align: top;\n",
       "    }\n",
       "\n",
       "    .dataframe thead th {\n",
       "        text-align: right;\n",
       "    }\n",
       "</style>\n",
       "<table border=\"1\" class=\"dataframe\">\n",
       "  <thead>\n",
       "    <tr style=\"text-align: right;\">\n",
       "      <th></th>\n",
       "      <th>loan_id</th>\n",
       "      <th>loan_purpose</th>\n",
       "      <th>loan_repaid</th>\n",
       "      <th>previous_repaid</th>\n",
       "      <th>repaying</th>\n",
       "      <th>credit_limit</th>\n",
       "      <th>limit_used</th>\n",
       "      <th>yearly_salary</th>\n",
       "      <th>dependent_number</th>\n",
       "      <th>savings</th>\n",
       "    </tr>\n",
       "  </thead>\n",
       "  <tbody>\n",
       "    <tr>\n",
       "      <th>0</th>\n",
       "      <td>19454</td>\n",
       "      <td>3</td>\n",
       "      <td>NaN</td>\n",
       "      <td>0</td>\n",
       "      <td>0</td>\n",
       "      <td>8600</td>\n",
       "      <td>0.79</td>\n",
       "      <td>45200</td>\n",
       "      <td>7</td>\n",
       "      <td>7776</td>\n",
       "    </tr>\n",
       "    <tr>\n",
       "      <th>1</th>\n",
       "      <td>496811</td>\n",
       "      <td>3</td>\n",
       "      <td>NaN</td>\n",
       "      <td>0</td>\n",
       "      <td>0</td>\n",
       "      <td>5300</td>\n",
       "      <td>0.52</td>\n",
       "      <td>0</td>\n",
       "      <td>5</td>\n",
       "      <td>5934</td>\n",
       "    </tr>\n",
       "    <tr>\n",
       "      <th>2</th>\n",
       "      <td>929493</td>\n",
       "      <td>4</td>\n",
       "      <td>NaN</td>\n",
       "      <td>0</td>\n",
       "      <td>0</td>\n",
       "      <td>0</td>\n",
       "      <td>0.00</td>\n",
       "      <td>26500</td>\n",
       "      <td>4</td>\n",
       "      <td>3892</td>\n",
       "    </tr>\n",
       "    <tr>\n",
       "      <th>3</th>\n",
       "      <td>77085</td>\n",
       "      <td>4</td>\n",
       "      <td>NaN</td>\n",
       "      <td>0</td>\n",
       "      <td>0</td>\n",
       "      <td>3000</td>\n",
       "      <td>0.82</td>\n",
       "      <td>0</td>\n",
       "      <td>3</td>\n",
       "      <td>4297</td>\n",
       "    </tr>\n",
       "    <tr>\n",
       "      <th>4</th>\n",
       "      <td>422392</td>\n",
       "      <td>0</td>\n",
       "      <td>NaN</td>\n",
       "      <td>2</td>\n",
       "      <td>2</td>\n",
       "      <td>1000</td>\n",
       "      <td>1.09</td>\n",
       "      <td>0</td>\n",
       "      <td>2</td>\n",
       "      <td>1542</td>\n",
       "    </tr>\n",
       "  </tbody>\n",
       "</table>\n",
       "</div>"
      ],
      "text/plain": [
       "   loan_id  loan_purpose  loan_repaid  previous_repaid  repaying  \\\n",
       "0    19454             3          NaN                0         0   \n",
       "1   496811             3          NaN                0         0   \n",
       "2   929493             4          NaN                0         0   \n",
       "3    77085             4          NaN                0         0   \n",
       "4   422392             0          NaN                2         2   \n",
       "\n",
       "   credit_limit  limit_used  yearly_salary  dependent_number  savings  \n",
       "0          8600        0.79          45200                 7     7776  \n",
       "1          5300        0.52              0                 5     5934  \n",
       "2             0        0.00          26500                 4     3892  \n",
       "3          3000        0.82              0                 3     4297  \n",
       "4          1000        1.09              0                 2     1542  "
      ]
     },
     "execution_count": 24,
     "metadata": {},
     "output_type": "execute_result"
    }
   ],
   "source": [
    "data_test.df.head()"
   ]
  },
  {
   "cell_type": "code",
   "execution_count": 25,
   "metadata": {},
   "outputs": [
    {
     "data": {
      "text/plain": [
       "['loan_purpose',\n",
       " 'previous_repaid',\n",
       " 'repaying',\n",
       " 'credit_limit',\n",
       " 'limit_used',\n",
       " 'yearly_salary',\n",
       " 'dependent_number',\n",
       " 'savings']"
      ]
     },
     "execution_count": 25,
     "metadata": {},
     "output_type": "execute_result"
    }
   ],
   "source": [
    "data_train.feature_cols"
   ]
  },
  {
   "cell_type": "code",
   "execution_count": 26,
   "metadata": {},
   "outputs": [
    {
     "data": {
      "text/plain": [
       "['loan_purpose',\n",
       " 'previous_repaid',\n",
       " 'repaying',\n",
       " 'credit_limit',\n",
       " 'limit_used',\n",
       " 'yearly_salary',\n",
       " 'dependent_number',\n",
       " 'savings']"
      ]
     },
     "execution_count": 26,
     "metadata": {},
     "output_type": "execute_result"
    }
   ],
   "source": [
    "data_test.feature_cols"
   ]
  },
  {
   "cell_type": "markdown",
   "metadata": {},
   "source": [
    "##### Create a Model object, train the Random Forest, make predictions for the test set, and generate model explainability"
   ]
  },
  {
   "cell_type": "code",
   "execution_count": 27,
   "metadata": {},
   "outputs": [],
   "source": [
    "model = Model()\n",
    "model.train(data_train, model=\"RF\", scoring='roc_auc', k=3, tune=False)"
   ]
  },
  {
   "cell_type": "code",
   "execution_count": 28,
   "metadata": {},
   "outputs": [
    {
     "data": {
      "text/plain": [
       "array([0.99908136, 0.94474787, 0.09549128, ..., 0.01531307, 0.01192037,\n",
       "       0.13131276])"
      ]
     },
     "execution_count": 28,
     "metadata": {},
     "output_type": "execute_result"
    }
   ],
   "source": [
    "preds = model.predict(data_test)\n",
    "preds"
   ]
  },
  {
   "cell_type": "code",
   "execution_count": 29,
   "metadata": {},
   "outputs": [],
   "source": [
    "bias, contrib = model.explainability(data_test)"
   ]
  },
  {
   "cell_type": "code",
   "execution_count": 30,
   "metadata": {},
   "outputs": [
    {
     "data": {
      "text/plain": [
       "0.6442678474000086"
      ]
     },
     "execution_count": 30,
     "metadata": {},
     "output_type": "execute_result"
    }
   ],
   "source": [
    "bias"
   ]
  },
  {
   "cell_type": "code",
   "execution_count": 31,
   "metadata": {},
   "outputs": [
    {
     "data": {
      "text/plain": [
       "(53446, 8)"
      ]
     },
     "execution_count": 31,
     "metadata": {},
     "output_type": "execute_result"
    }
   ],
   "source": [
    "contrib.shape"
   ]
  },
  {
   "cell_type": "markdown",
   "metadata": {},
   "source": [
    "For each example $i$, the prediction $p_i$ = $bias + \\sum_{j} contrib_{ij}$, where $j$ is the index for the features:"
   ]
  },
  {
   "cell_type": "code",
   "execution_count": 32,
   "metadata": {},
   "outputs": [
    {
     "data": {
      "text/plain": [
       "array([0.99908136, 0.94474787, 0.09549128, ..., 0.01531307, 0.01192037,\n",
       "       0.13131276])"
      ]
     },
     "execution_count": 32,
     "metadata": {},
     "output_type": "execute_result"
    }
   ],
   "source": [
    "bias + contrib.sum(axis=1) # same as the predictions above"
   ]
  },
  {
   "cell_type": "code",
   "execution_count": 33,
   "metadata": {},
   "outputs": [
    {
     "name": "stdout",
     "output_type": "stream",
     "text": [
      "--- Model Summaries ---\n",
      "\n",
      "RandomForestClassifier(bootstrap=True, class_weight=None, criterion='gini',\n",
      "                       max_depth=12, max_features=2, max_leaf_nodes=None,\n",
      "                       min_impurity_decrease=0.0, min_impurity_split=None,\n",
      "                       min_samples_leaf=1, min_samples_split=3,\n",
      "                       min_weight_fraction_leaf=0.0, n_estimators=50,\n",
      "                       n_jobs=None, oob_score=False, random_state=0, verbose=0,\n",
      "                       warm_start=False)\n",
      "\n",
      "Cross-validation Score: 0.9656627263839587\n",
      "\n",
      "Feature Importances:\n",
      "\n",
      "                  importances\n",
      "savings              0.559866\n",
      "yearly_salary        0.161415\n",
      "credit_limit         0.133414\n",
      "repaying             0.066722\n",
      "limit_used           0.039876\n",
      "dependent_number     0.017784\n",
      "loan_purpose         0.013507\n",
      "previous_repaid      0.007415\n"
     ]
    },
    {
     "data": {
      "image/png": "[encoded data removed]",
      "text/plain": [
       "<Figure size 576x432 with 1 Axes>"
      ]
     },
     "metadata": {
      "needs_background": "light"
     },
     "output_type": "display_data"
    }
   ],
   "source": [
    "model.print_summary()"
   ]
  },
  {
   "cell_type": "code",
   "execution_count": null,
   "metadata": {},
   "outputs": [],
   "source": []
  }
 ],
 "metadata": {
  "kernelspec": {
   "display_name": "Python 3",
   "language": "python",
   "name": "python3"
  },
  "language_info": {
   "codemirror_mode": {
    "name": "ipython",
    "version": 3
   },
   "file_extension": ".py",
   "mimetype": "text/x-python",
   "name": "python",
   "nbconvert_exporter": "python",
   "pygments_lexer": "ipython3",
   "version": "3.7.3"
  }
 },
 "nbformat": 4,
 "nbformat_minor": 2
}
