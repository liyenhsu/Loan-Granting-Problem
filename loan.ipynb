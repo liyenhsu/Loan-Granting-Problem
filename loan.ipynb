{
 "cells": [
  {
   "cell_type": "markdown",
   "metadata": {},
   "source": [
    "# Making Loan Granting Decisions\n",
    "\n",
    "In this project, we have a loan dataset from a bank. The data contain all the loans asked to the bank, whether the bank decided to grant it, whether the borrower managed to repay it, and the information about the borrower at the moment he/she is asking for the loan. The goal is to build a model to predict whether a customer will repay, which can be used to decide whether to grant loans to future customers."
   ]
  },
  {
   "cell_type": "code",
   "execution_count": 1,
   "metadata": {
    "collapsed": true
   },
   "outputs": [],
   "source": [
    "import numpy as np\n",
    "import pandas as pd \n",
    "import matplotlib.pyplot as plt\n",
    "import seaborn as sns\n",
    "from sklearn.linear_model import LogisticRegression\n",
    "from sklearn.preprocessing import StandardScaler\n",
    "from sklearn.ensemble import RandomForestClassifier\n",
    "from sklearn.model_selection import GridSearchCV, train_test_split\n",
    "from sklearn.metrics import confusion_matrix,precision_score,recall_score,f1_score,make_scorer\n",
    "from scipy.stats import ks_2samp\n",
    "from treeinterpreter import treeinterpreter as ti"
   ]
  },
  {
   "cell_type": "code",
   "execution_count": 2,
   "metadata": {},
   "outputs": [
    {
     "data": {
      "text/plain": [
       "((101100, 5), (101100, 12))"
      ]
     },
     "execution_count": 2,
     "metadata": {},
     "output_type": "execute_result"
    }
   ],
   "source": [
    "df_loan  = pd.read_csv('data/loan_table.csv')\n",
    "df_borrower  = pd.read_csv('data/borrower_table.csv')\n",
    "\n",
    "# inspect the size of the data\n",
    "df_loan.shape, df_borrower.shape"
   ]
  },
  {
   "cell_type": "code",
   "execution_count": 3,
   "metadata": {},
   "outputs": [
    {
     "data": {
      "text/html": [
       "<div>\n",
       "<style>\n",
       "    .dataframe thead tr:only-child th {\n",
       "        text-align: right;\n",
       "    }\n",
       "\n",
       "    .dataframe thead th {\n",
       "        text-align: left;\n",
       "    }\n",
       "\n",
       "    .dataframe tbody tr th {\n",
       "        vertical-align: top;\n",
       "    }\n",
       "</style>\n",
       "<table border=\"1\" class=\"dataframe\">\n",
       "  <thead>\n",
       "    <tr style=\"text-align: right;\">\n",
       "      <th></th>\n",
       "      <th>loan_id</th>\n",
       "      <th>loan_purpose</th>\n",
       "      <th>date</th>\n",
       "      <th>loan_granted</th>\n",
       "      <th>loan_repaid</th>\n",
       "    </tr>\n",
       "  </thead>\n",
       "  <tbody>\n",
       "    <tr>\n",
       "      <th>0</th>\n",
       "      <td>19454</td>\n",
       "      <td>investment</td>\n",
       "      <td>2012-03-15</td>\n",
       "      <td>0</td>\n",
       "      <td>NaN</td>\n",
       "    </tr>\n",
       "    <tr>\n",
       "      <th>1</th>\n",
       "      <td>496811</td>\n",
       "      <td>investment</td>\n",
       "      <td>2012-01-17</td>\n",
       "      <td>0</td>\n",
       "      <td>NaN</td>\n",
       "    </tr>\n",
       "    <tr>\n",
       "      <th>2</th>\n",
       "      <td>929493</td>\n",
       "      <td>other</td>\n",
       "      <td>2012-02-09</td>\n",
       "      <td>0</td>\n",
       "      <td>NaN</td>\n",
       "    </tr>\n",
       "    <tr>\n",
       "      <th>3</th>\n",
       "      <td>580653</td>\n",
       "      <td>other</td>\n",
       "      <td>2012-06-27</td>\n",
       "      <td>1</td>\n",
       "      <td>1.0</td>\n",
       "    </tr>\n",
       "    <tr>\n",
       "      <th>4</th>\n",
       "      <td>172419</td>\n",
       "      <td>business</td>\n",
       "      <td>2012-05-21</td>\n",
       "      <td>1</td>\n",
       "      <td>0.0</td>\n",
       "    </tr>\n",
       "  </tbody>\n",
       "</table>\n",
       "</div>"
      ],
      "text/plain": [
       "   loan_id loan_purpose        date  loan_granted  loan_repaid\n",
       "0    19454   investment  2012-03-15             0          NaN\n",
       "1   496811   investment  2012-01-17             0          NaN\n",
       "2   929493        other  2012-02-09             0          NaN\n",
       "3   580653        other  2012-06-27             1          1.0\n",
       "4   172419     business  2012-05-21             1          0.0"
      ]
     },
     "execution_count": 3,
     "metadata": {},
     "output_type": "execute_result"
    }
   ],
   "source": [
    "df_loan.head()"
   ]
  },
  {
   "cell_type": "code",
   "execution_count": 4,
   "metadata": {},
   "outputs": [
    {
     "data": {
      "text/html": [
       "<div>\n",
       "<style>\n",
       "    .dataframe thead tr:only-child th {\n",
       "        text-align: right;\n",
       "    }\n",
       "\n",
       "    .dataframe thead th {\n",
       "        text-align: left;\n",
       "    }\n",
       "\n",
       "    .dataframe tbody tr th {\n",
       "        vertical-align: top;\n",
       "    }\n",
       "</style>\n",
       "<table border=\"1\" class=\"dataframe\">\n",
       "  <thead>\n",
       "    <tr style=\"text-align: right;\">\n",
       "      <th></th>\n",
       "      <th>loan_id</th>\n",
       "      <th>is_first_loan</th>\n",
       "      <th>fully_repaid_previous_loans</th>\n",
       "      <th>currently_repaying_other_loans</th>\n",
       "      <th>total_credit_card_limit</th>\n",
       "      <th>avg_percentage_credit_card_limit_used_last_year</th>\n",
       "      <th>saving_amount</th>\n",
       "      <th>checking_amount</th>\n",
       "      <th>is_employed</th>\n",
       "      <th>yearly_salary</th>\n",
       "      <th>age</th>\n",
       "      <th>dependent_number</th>\n",
       "    </tr>\n",
       "  </thead>\n",
       "  <tbody>\n",
       "    <tr>\n",
       "      <th>0</th>\n",
       "      <td>289774</td>\n",
       "      <td>1</td>\n",
       "      <td>NaN</td>\n",
       "      <td>NaN</td>\n",
       "      <td>8000</td>\n",
       "      <td>0.49</td>\n",
       "      <td>3285</td>\n",
       "      <td>1073</td>\n",
       "      <td>0</td>\n",
       "      <td>0</td>\n",
       "      <td>47</td>\n",
       "      <td>3</td>\n",
       "    </tr>\n",
       "    <tr>\n",
       "      <th>1</th>\n",
       "      <td>482590</td>\n",
       "      <td>0</td>\n",
       "      <td>1.0</td>\n",
       "      <td>0.0</td>\n",
       "      <td>4500</td>\n",
       "      <td>1.03</td>\n",
       "      <td>636</td>\n",
       "      <td>5299</td>\n",
       "      <td>1</td>\n",
       "      <td>13500</td>\n",
       "      <td>33</td>\n",
       "      <td>1</td>\n",
       "    </tr>\n",
       "    <tr>\n",
       "      <th>2</th>\n",
       "      <td>135565</td>\n",
       "      <td>1</td>\n",
       "      <td>NaN</td>\n",
       "      <td>NaN</td>\n",
       "      <td>6900</td>\n",
       "      <td>0.82</td>\n",
       "      <td>2085</td>\n",
       "      <td>3422</td>\n",
       "      <td>1</td>\n",
       "      <td>24500</td>\n",
       "      <td>38</td>\n",
       "      <td>8</td>\n",
       "    </tr>\n",
       "    <tr>\n",
       "      <th>3</th>\n",
       "      <td>207797</td>\n",
       "      <td>0</td>\n",
       "      <td>1.0</td>\n",
       "      <td>0.0</td>\n",
       "      <td>1200</td>\n",
       "      <td>0.82</td>\n",
       "      <td>358</td>\n",
       "      <td>3388</td>\n",
       "      <td>0</td>\n",
       "      <td>0</td>\n",
       "      <td>24</td>\n",
       "      <td>1</td>\n",
       "    </tr>\n",
       "    <tr>\n",
       "      <th>4</th>\n",
       "      <td>828078</td>\n",
       "      <td>0</td>\n",
       "      <td>0.0</td>\n",
       "      <td>0.0</td>\n",
       "      <td>6900</td>\n",
       "      <td>0.80</td>\n",
       "      <td>2138</td>\n",
       "      <td>4282</td>\n",
       "      <td>1</td>\n",
       "      <td>18100</td>\n",
       "      <td>36</td>\n",
       "      <td>1</td>\n",
       "    </tr>\n",
       "  </tbody>\n",
       "</table>\n",
       "</div>"
      ],
      "text/plain": [
       "   loan_id  is_first_loan  fully_repaid_previous_loans  \\\n",
       "0   289774              1                          NaN   \n",
       "1   482590              0                          1.0   \n",
       "2   135565              1                          NaN   \n",
       "3   207797              0                          1.0   \n",
       "4   828078              0                          0.0   \n",
       "\n",
       "   currently_repaying_other_loans  total_credit_card_limit  \\\n",
       "0                             NaN                     8000   \n",
       "1                             0.0                     4500   \n",
       "2                             NaN                     6900   \n",
       "3                             0.0                     1200   \n",
       "4                             0.0                     6900   \n",
       "\n",
       "   avg_percentage_credit_card_limit_used_last_year  saving_amount  \\\n",
       "0                                             0.49           3285   \n",
       "1                                             1.03            636   \n",
       "2                                             0.82           2085   \n",
       "3                                             0.82            358   \n",
       "4                                             0.80           2138   \n",
       "\n",
       "   checking_amount  is_employed  yearly_salary  age  dependent_number  \n",
       "0             1073            0              0   47                 3  \n",
       "1             5299            1          13500   33                 1  \n",
       "2             3422            1          24500   38                 8  \n",
       "3             3388            0              0   24                 1  \n",
       "4             4282            1          18100   36                 1  "
      ]
     },
     "execution_count": 4,
     "metadata": {},
     "output_type": "execute_result"
    }
   ],
   "source": [
    "df_borrower.head()"
   ]
  },
  {
   "cell_type": "markdown",
   "metadata": {},
   "source": [
    "## Data Cleaning"
   ]
  },
  {
   "cell_type": "code",
   "execution_count": 5,
   "metadata": {
    "collapsed": true
   },
   "outputs": [],
   "source": [
    "# Merge the two data frames using \"loan_id\"\n",
    "df = pd.merge(left=df_loan, right=df_borrower, how='left', on='loan_id')\n",
    "# Drop \"loan_id\" and \"date\", which are not useful for modeling\n",
    "df = df.drop(['loan_id','date'],axis=1)\n",
    "\n",
    "# Rename some columns whose names are too long \n",
    "df = df.rename(columns={'fully_repaid_previous_loans': 'previous_repaid', \n",
    "                        'currently_repaying_other_loans': 'repaying',\n",
    "                        'total_credit_card_limit': 'credit_limit', \n",
    "                        'avg_percentage_credit_card_limit_used_last_year':'limit_used'})"
   ]
  },
  {
   "cell_type": "code",
   "execution_count": 6,
   "metadata": {},
   "outputs": [
    {
     "data": {
      "text/plain": [
       "loan_purpose            0\n",
       "loan_granted            0\n",
       "loan_repaid         53446\n",
       "is_first_loan           0\n",
       "previous_repaid     54947\n",
       "repaying            54947\n",
       "credit_limit            0\n",
       "limit_used           6972\n",
       "saving_amount           0\n",
       "checking_amount         0\n",
       "is_employed             0\n",
       "yearly_salary           0\n",
       "age                     0\n",
       "dependent_number        0\n",
       "dtype: int64"
      ]
     },
     "execution_count": 6,
     "metadata": {},
     "output_type": "execute_result"
    }
   ],
   "source": [
    "# Check the amount of NANs in each column\n",
    "df.isnull().sum()"
   ]
  },
  {
   "cell_type": "markdown",
   "metadata": {
    "collapsed": true
   },
   "source": [
    "There are 53446 NANs in ``loan_repaid``, which should be due to the fact that those customers were not granted the loan in the first place. We can check whether the number of granted loans is also 53446."
   ]
  },
  {
   "cell_type": "code",
   "execution_count": 7,
   "metadata": {},
   "outputs": [
    {
     "name": "stdout",
     "output_type": "stream",
     "text": [
      "53446\n"
     ]
    }
   ],
   "source": [
    "# Yes, it is also 53446\n",
    "print sum(df.loan_granted == 0)"
   ]
  },
  {
   "cell_type": "markdown",
   "metadata": {},
   "source": [
    "There are 54947 NANs in both ``previous_repaid`` and ``repaying``, which should be due to the fact that those customers never had a loan in the past. We can check whether there are 54947 ones in ``is_first_loan`` "
   ]
  },
  {
   "cell_type": "code",
   "execution_count": 8,
   "metadata": {},
   "outputs": [
    {
     "name": "stdout",
     "output_type": "stream",
     "text": [
      "54947\n"
     ]
    }
   ],
   "source": [
    "# Yes, it is also 54947\n",
    "print sum(df.is_first_loan)"
   ]
  },
  {
   "cell_type": "code",
   "execution_count": 9,
   "metadata": {
    "collapsed": true
   },
   "outputs": [],
   "source": [
    "# fill the NANs in \"previous_repaid\" and \"repaying\" and make both features \n",
    "# have three categories, \"NA\", \"YES\", \"NO\"\n",
    "\n",
    "df.previous_repaid.fillna(-1,inplace=True)\n",
    "df.repaying.fillna(-1,inplace=True)\n",
    "df.previous_repaid = df.previous_repaid.replace({0: 'No', 1: 'Yes', -1: 'NA'})\n",
    "df.repaying = df.repaying.replace({0: 'No', 1: 'Yes', -1: 'NA'})"
   ]
  },
  {
   "cell_type": "markdown",
   "metadata": {},
   "source": [
    "Lastly, there are 6972 NANs in ``limit_used``, which should be due to the fact that those customers have no credit card limit at all. We can check whether there are 6972 zeros in ``credit_limit`` "
   ]
  },
  {
   "cell_type": "code",
   "execution_count": 10,
   "metadata": {},
   "outputs": [
    {
     "name": "stdout",
     "output_type": "stream",
     "text": [
      "6972\n"
     ]
    }
   ],
   "source": [
    "# Yes, it is also 6972\n",
    "print sum(df.credit_limit == 0) "
   ]
  },
  {
   "cell_type": "code",
   "execution_count": 11,
   "metadata": {
    "collapsed": true
   },
   "outputs": [],
   "source": [
    "# We can just fill these NANs using zeros\n",
    "df.limit_used.fillna(0,inplace=True)"
   ]
  },
  {
   "cell_type": "markdown",
   "metadata": {},
   "source": [
    "The data have the total saving account balance and total checking account balance separately. However, what matters is the total balance, as some people prefer to put most of their money in the checking accounts while some others do not. So here I create a new column ``savings``, which equals the total balance. And then ``saving_amount`` and ``checking_amount`` can be dropped."
   ]
  },
  {
   "cell_type": "code",
   "execution_count": 12,
   "metadata": {},
   "outputs": [
    {
     "name": "stdout",
     "output_type": "stream",
     "text": [
      "   saving_amount  checking_amount\n",
      "0           1491             6285\n",
      "1            141             5793\n",
      "2            660             3232\n",
      "3           3345             2764\n",
      "4           1050             3695\n",
      "5           1028             3269\n",
      "6           4206             4368\n",
      "7            886             1597\n",
      "8           1837             3795\n",
      "9            134             1408\n"
     ]
    }
   ],
   "source": [
    "print df[['saving_amount','checking_amount']].head(10)\n",
    "\n",
    "df['savings'] =  df.saving_amount + df.checking_amount\n",
    "df = df.drop(['saving_amount','checking_amount'],axis=1)"
   ]
  },
  {
   "cell_type": "markdown",
   "metadata": {},
   "source": [
    "## Exploratory Data Analysis and Visualization"
   ]
  },
  {
   "cell_type": "markdown",
   "metadata": {},
   "source": [
    "### 1. Statistical Overview"
   ]
  },
  {
   "cell_type": "markdown",
   "metadata": {},
   "source": [
    "Let's check the difference in numbers between the borrowers who repaid and who didn’t"
   ]
  },
  {
   "cell_type": "code",
   "execution_count": 13,
   "metadata": {},
   "outputs": [
    {
     "data": {
      "text/plain": [
       "1.0    0.644353\n",
       "0.0    0.355647\n",
       "Name: loan_repaid, dtype: float64"
      ]
     },
     "execution_count": 13,
     "metadata": {},
     "output_type": "execute_result"
    }
   ],
   "source": [
    "total = sum(df.loan_granted == 1)\n",
    "df.loan_repaid.value_counts() / total"
   ]
  },
  {
   "cell_type": "markdown",
   "metadata": {},
   "source": [
    " About 64% of the borrowers did repay"
   ]
  },
  {
   "cell_type": "code",
   "execution_count": 14,
   "metadata": {},
   "outputs": [
    {
     "data": {
      "text/html": [
       "<div>\n",
       "<style>\n",
       "    .dataframe thead tr:only-child th {\n",
       "        text-align: right;\n",
       "    }\n",
       "\n",
       "    .dataframe thead th {\n",
       "        text-align: left;\n",
       "    }\n",
       "\n",
       "    .dataframe tbody tr th {\n",
       "        vertical-align: top;\n",
       "    }\n",
       "</style>\n",
       "<table border=\"1\" class=\"dataframe\">\n",
       "  <thead>\n",
       "    <tr style=\"text-align: right;\">\n",
       "      <th></th>\n",
       "      <th>is_first_loan</th>\n",
       "      <th>credit_limit</th>\n",
       "      <th>limit_used</th>\n",
       "      <th>is_employed</th>\n",
       "      <th>yearly_salary</th>\n",
       "      <th>age</th>\n",
       "      <th>dependent_number</th>\n",
       "      <th>savings</th>\n",
       "    </tr>\n",
       "    <tr>\n",
       "      <th>loan_repaid</th>\n",
       "      <th></th>\n",
       "      <th></th>\n",
       "      <th></th>\n",
       "      <th></th>\n",
       "      <th></th>\n",
       "      <th></th>\n",
       "      <th></th>\n",
       "      <th></th>\n",
       "    </tr>\n",
       "  </thead>\n",
       "  <tbody>\n",
       "    <tr>\n",
       "      <th>0.0</th>\n",
       "      <td>0.532570</td>\n",
       "      <td>3459.352136</td>\n",
       "      <td>0.718196</td>\n",
       "      <td>0.791952</td>\n",
       "      <td>19893.114232</td>\n",
       "      <td>41.508320</td>\n",
       "      <td>4.233656</td>\n",
       "      <td>3095.128688</td>\n",
       "    </tr>\n",
       "    <tr>\n",
       "      <th>1.0</th>\n",
       "      <td>0.545919</td>\n",
       "      <td>5117.599166</td>\n",
       "      <td>0.669510</td>\n",
       "      <td>0.974891</td>\n",
       "      <td>34408.258972</td>\n",
       "      <td>41.533674</td>\n",
       "      <td>3.486843</td>\n",
       "      <td>6860.763857</td>\n",
       "    </tr>\n",
       "  </tbody>\n",
       "</table>\n",
       "</div>"
      ],
      "text/plain": [
       "             is_first_loan  credit_limit  limit_used  is_employed  \\\n",
       "loan_repaid                                                         \n",
       "0.0               0.532570   3459.352136    0.718196     0.791952   \n",
       "1.0               0.545919   5117.599166    0.669510     0.974891   \n",
       "\n",
       "             yearly_salary        age  dependent_number      savings  \n",
       "loan_repaid                                                           \n",
       "0.0           19893.114232  41.508320          4.233656  3095.128688  \n",
       "1.0           34408.258972  41.533674          3.486843  6860.763857  "
      ]
     },
     "execution_count": 14,
     "metadata": {},
     "output_type": "execute_result"
    }
   ],
   "source": [
    "# Numerical features: Didn't repay v.s. Repaid (mean) \n",
    "df.groupby('loan_repaid').mean().drop(['loan_granted'],axis=1)"
   ]
  },
  {
   "cell_type": "code",
   "execution_count": 15,
   "metadata": {},
   "outputs": [
    {
     "data": {
      "text/html": [
       "<div>\n",
       "<style>\n",
       "    .dataframe thead tr:only-child th {\n",
       "        text-align: right;\n",
       "    }\n",
       "\n",
       "    .dataframe thead th {\n",
       "        text-align: left;\n",
       "    }\n",
       "\n",
       "    .dataframe tbody tr th {\n",
       "        vertical-align: top;\n",
       "    }\n",
       "</style>\n",
       "<table border=\"1\" class=\"dataframe\">\n",
       "  <thead>\n",
       "    <tr style=\"text-align: right;\">\n",
       "      <th></th>\n",
       "      <th>loan_purpose</th>\n",
       "      <th>previous_repaid</th>\n",
       "      <th>repaying</th>\n",
       "    </tr>\n",
       "    <tr>\n",
       "      <th>loan_repaid</th>\n",
       "      <th></th>\n",
       "      <th></th>\n",
       "      <th></th>\n",
       "    </tr>\n",
       "  </thead>\n",
       "  <tbody>\n",
       "    <tr>\n",
       "      <th>0.0</th>\n",
       "      <td>emergency_funds</td>\n",
       "      <td>NA</td>\n",
       "      <td>NA</td>\n",
       "    </tr>\n",
       "    <tr>\n",
       "      <th>1.0</th>\n",
       "      <td>business</td>\n",
       "      <td>NA</td>\n",
       "      <td>NA</td>\n",
       "    </tr>\n",
       "  </tbody>\n",
       "</table>\n",
       "</div>"
      ],
      "text/plain": [
       "                loan_purpose previous_repaid repaying\n",
       "loan_repaid                                          \n",
       "0.0          emergency_funds              NA       NA\n",
       "1.0                 business              NA       NA"
      ]
     },
     "execution_count": 15,
     "metadata": {},
     "output_type": "execute_result"
    }
   ],
   "source": [
    "# Categorical features: Didn't repay v.s. Repaid (mode) \n",
    "df.groupby('loan_repaid').agg(lambda x:x.value_counts().index[0])[['loan_purpose','previous_repaid','repaying']]"
   ]
  },
  {
   "cell_type": "markdown",
   "metadata": {},
   "source": [
    "- Whether or not a person had previously asked for a loan does not make a differnce, as the mean values of ``is_first_loan`` are almost the same (~54%).\n",
    "- Age doesn't matter, either. The mean values of ``age`` are almost the same (~41.5).\n",
    "- For the other numerical features, we can see differences between the two groups. We can later check their distributions\n",
    "- The most common loan purpose of the people who eventually didn't repay is ``emergency_funds``, while for the people who did repay it is ``business``.\n"
   ]
  },
  {
   "cell_type": "markdown",
   "metadata": {},
   "source": [
    "### 2. K-S Tests\n",
    "A K-S test can be used to test whether two samples are drawn from the same distribution. If the K-S statistic is small or the p-value is high, we cannot reject the null hypothesis that the distributions of the two samples are the same. Here we can use it for ``credit_limit``, ``limit_used``, ``yearly_salary``, ``age``, ``dependent_number`` and ``savings``. Note that for ``is_first_loan`` and ``is_employed``, the values are either 0 or 1, so checking the mean values of the two groups (as shown above) is enough."
   ]
  },
  {
   "cell_type": "code",
   "execution_count": 16,
   "metadata": {},
   "outputs": [
    {
     "name": "stdout",
     "output_type": "stream",
     "text": [
      "credit_limit:\n",
      "Ks_2sampResult(statistic=0.35322588036422875, pvalue=0.0) \n",
      "\n",
      "limit_used:\n",
      "Ks_2sampResult(statistic=0.15785510619177262, pvalue=2.4726128431945138e-237) \n",
      "\n",
      "yearly_salary:\n",
      "Ks_2sampResult(statistic=0.37714850430190094, pvalue=0.0) \n",
      "\n",
      "age:\n",
      "Ks_2sampResult(statistic=0.0052539473811035187, pvalue=0.92313814108551751) \n",
      "\n",
      "dependent_number:\n",
      "Ks_2sampResult(statistic=0.12093414392822227, pvalue=1.7968807689326007e-139) \n",
      "\n",
      "savings:\n",
      "Ks_2sampResult(statistic=0.70610414704317914, pvalue=0.0) \n",
      "\n"
     ]
    }
   ],
   "source": [
    "def run_KS_test(feature):\n",
    "\n",
    "    dist1 = df.loc[df.loan_repaid == 0,feature]\n",
    "    dist2 = df.loc[df.loan_repaid == 1,feature]\n",
    "    print feature+':'\n",
    "    print ks_2samp(dist1,dist2),'\\n'\n",
    "\n",
    "run_KS_test('credit_limit')    \n",
    "run_KS_test('limit_used')\n",
    "run_KS_test('yearly_salary')\n",
    "run_KS_test('age')\n",
    "run_KS_test('dependent_number')\n",
    "run_KS_test('savings')"
   ]
  },
  {
   "cell_type": "markdown",
   "metadata": {},
   "source": [
    "We see that the p-value for ``age`` is over 90%, so we cannot reject the null hypothesis. For the others, p-values are all extremely low, showing that the two samples are not drawn from the same distribution."
   ]
  },
  {
   "cell_type": "markdown",
   "metadata": {},
   "source": [
    "### 3. Distribution Plots"
   ]
  },
  {
   "cell_type": "code",
   "execution_count": 17,
   "metadata": {
    "collapsed": true
   },
   "outputs": [],
   "source": [
    "# Plot the distributions for the numerical features\n",
    "def DensityPlot(feature):\n",
    "    fig = plt.figure(figsize=(8,4))\n",
    "    sns.kdeplot(df.loc[df.loan_repaid == 0,feature], color='r',shade=True, label=\"didn't repay\")\n",
    "    sns.kdeplot(df.loc[df.loan_repaid == 1,feature], color='b',shade=True, label=\"repaid\")\n",
    "    plt.xlabel(feature)\n",
    "    plt.ylabel('frequency')\n",
    "    plt.show(block=False)"
   ]
  },
  {
   "cell_type": "code",
   "execution_count": 18,
   "metadata": {},
   "outputs": [
    {
     "data": {
      "image/png": "[encoded data removed]",
      "text/plain": [
       "<matplotlib.figure.Figure at 0x10edfaf90>"
      ]
     },
     "metadata": {},
     "output_type": "display_data"
    }
   ],
   "source": [
    "DensityPlot('credit_limit')"
   ]
  },
  {
   "cell_type": "code",
   "execution_count": 19,
   "metadata": {},
   "outputs": [
    {
     "data": {
      "image/png": "[encoded data removed]",
      "text/plain": [
       "<matplotlib.figure.Figure at 0x10f278ed0>"
      ]
     },
     "metadata": {},
     "output_type": "display_data"
    }
   ],
   "source": [
    "DensityPlot('limit_used')"
   ]
  },
  {
   "cell_type": "code",
   "execution_count": 20,
   "metadata": {},
   "outputs": [
    {
     "data": {
      "image/png": "[encoded data removed]",
      "text/plain": [
       "<matplotlib.figure.Figure at 0x10f74b790>"
      ]
     },
     "metadata": {},
     "output_type": "display_data"
    }
   ],
   "source": [
    "DensityPlot('yearly_salary')"
   ]
  },
  {
   "cell_type": "code",
   "execution_count": 21,
   "metadata": {},
   "outputs": [
    {
     "data": {
      "image/png": "[encoded data removed]",
      "text/plain": [
       "<matplotlib.figure.Figure at 0x10f2818d0>"
      ]
     },
     "metadata": {},
     "output_type": "display_data"
    }
   ],
   "source": [
    "DensityPlot('age')"
   ]
  },
  {
   "cell_type": "code",
   "execution_count": 22,
   "metadata": {},
   "outputs": [
    {
     "data": {
      "image/png": "[encoded data removed]",
      "text/plain": [
       "<matplotlib.figure.Figure at 0x10f269d10>"
      ]
     },
     "metadata": {},
     "output_type": "display_data"
    }
   ],
   "source": [
    "DensityPlot('dependent_number')"
   ]
  },
  {
   "cell_type": "code",
   "execution_count": 23,
   "metadata": {},
   "outputs": [
    {
     "data": {
      "image/png": "[encoded data removed]",
      "text/plain": [
       "<matplotlib.figure.Figure at 0x10f7e0810>"
      ]
     },
     "metadata": {},
     "output_type": "display_data"
    }
   ],
   "source": [
    "DensityPlot('savings')"
   ]
  },
  {
   "cell_type": "markdown",
   "metadata": {},
   "source": [
    "- The two distributions of ``age`` are almost identical\n",
    "- The two distributions of ``dependent_number`` are quite similar, but there are differences at the low and high ends."
   ]
  },
  {
   "cell_type": "code",
   "execution_count": 24,
   "metadata": {
    "collapsed": true
   },
   "outputs": [],
   "source": [
    "# Make count plots for the categorical features\n",
    "def CountPlot(feature):\n",
    "    fig = plt.figure()\n",
    "    sns.countplot(x=feature, hue='loan_repaid', data=df)\n",
    "    plt.show(block=False)"
   ]
  },
  {
   "cell_type": "code",
   "execution_count": 25,
   "metadata": {},
   "outputs": [
    {
     "data": {
      "image/png": "[encoded data removed]",
      "text/plain": [
       "<matplotlib.figure.Figure at 0x10fbe6a90>"
      ]
     },
     "metadata": {},
     "output_type": "display_data"
    }
   ],
   "source": [
    "CountPlot('loan_purpose')"
   ]
  },
  {
   "cell_type": "code",
   "execution_count": 26,
   "metadata": {},
   "outputs": [
    {
     "data": {
      "image/png": "[encoded data removed]",
      "text/plain": [
       "<matplotlib.figure.Figure at 0x111bc9c10>"
      ]
     },
     "metadata": {},
     "output_type": "display_data"
    }
   ],
   "source": [
    "CountPlot('previous_repaid')"
   ]
  },
  {
   "cell_type": "code",
   "execution_count": 27,
   "metadata": {},
   "outputs": [
    {
     "data": {
      "image/png": "[encoded data removed]",
      "text/plain": [
       "<matplotlib.figure.Figure at 0x111e67dd0>"
      ]
     },
     "metadata": {},
     "output_type": "display_data"
    }
   ],
   "source": [
    "CountPlot('repaying')"
   ]
  },
  {
   "cell_type": "markdown",
   "metadata": {},
   "source": [
    "- The distributions of ``loan_purpose`` are different between the two groups. It is distributed quite evenly for the borrowers who didn't repay. For the borrowers who repaid, the fractions of ``emergency_funds`` and ``other`` are significantly lower than the other categories.\n",
    "- In the distributions of ``previous_repaid``, we can see that the borrowers who didn't repay have a higher fraction of people who didn't pay on time all of their previous loans.\n",
    "- In the distributions of ``repaying``, we can see that the borrowers who didn't repay have a higher fraction of people who are currently repaying other loans."
   ]
  },
  {
   "cell_type": "markdown",
   "metadata": {},
   "source": [
    "### 4. Correlation Matrix & Heatmap\n",
    "Finally let's see the correlations between different numerical features"
   ]
  },
  {
   "cell_type": "code",
   "execution_count": 28,
   "metadata": {},
   "outputs": [
    {
     "data": {
      "text/html": [
       "<div>\n",
       "<style>\n",
       "    .dataframe thead tr:only-child th {\n",
       "        text-align: right;\n",
       "    }\n",
       "\n",
       "    .dataframe thead th {\n",
       "        text-align: left;\n",
       "    }\n",
       "\n",
       "    .dataframe tbody tr th {\n",
       "        vertical-align: top;\n",
       "    }\n",
       "</style>\n",
       "<table border=\"1\" class=\"dataframe\">\n",
       "  <thead>\n",
       "    <tr style=\"text-align: right;\">\n",
       "      <th></th>\n",
       "      <th>loan_repaid</th>\n",
       "      <th>is_first_loan</th>\n",
       "      <th>credit_limit</th>\n",
       "      <th>limit_used</th>\n",
       "      <th>is_employed</th>\n",
       "      <th>yearly_salary</th>\n",
       "      <th>age</th>\n",
       "      <th>dependent_number</th>\n",
       "      <th>savings</th>\n",
       "    </tr>\n",
       "  </thead>\n",
       "  <tbody>\n",
       "    <tr>\n",
       "      <th>loan_repaid</th>\n",
       "      <td>1.000000</td>\n",
       "      <td>0.012824</td>\n",
       "      <td>0.401911</td>\n",
       "      <td>-0.116388</td>\n",
       "      <td>0.305749</td>\n",
       "      <td>0.426648</td>\n",
       "      <td>0.000947</td>\n",
       "      <td>-0.136384</td>\n",
       "      <td>0.621702</td>\n",
       "    </tr>\n",
       "    <tr>\n",
       "      <th>is_first_loan</th>\n",
       "      <td>0.012824</td>\n",
       "      <td>1.000000</td>\n",
       "      <td>0.000679</td>\n",
       "      <td>-0.002585</td>\n",
       "      <td>-0.000971</td>\n",
       "      <td>-0.001674</td>\n",
       "      <td>-0.002353</td>\n",
       "      <td>0.000887</td>\n",
       "      <td>0.006550</td>\n",
       "    </tr>\n",
       "    <tr>\n",
       "      <th>credit_limit</th>\n",
       "      <td>0.401911</td>\n",
       "      <td>0.000679</td>\n",
       "      <td>1.000000</td>\n",
       "      <td>0.318143</td>\n",
       "      <td>0.195274</td>\n",
       "      <td>0.222497</td>\n",
       "      <td>-0.004052</td>\n",
       "      <td>-0.058650</td>\n",
       "      <td>0.292580</td>\n",
       "    </tr>\n",
       "    <tr>\n",
       "      <th>limit_used</th>\n",
       "      <td>-0.116388</td>\n",
       "      <td>-0.002585</td>\n",
       "      <td>0.318143</td>\n",
       "      <td>1.000000</td>\n",
       "      <td>-0.009516</td>\n",
       "      <td>-0.011848</td>\n",
       "      <td>-0.002836</td>\n",
       "      <td>0.005154</td>\n",
       "      <td>-0.009701</td>\n",
       "    </tr>\n",
       "    <tr>\n",
       "      <th>is_employed</th>\n",
       "      <td>0.305749</td>\n",
       "      <td>-0.000971</td>\n",
       "      <td>0.195274</td>\n",
       "      <td>-0.009516</td>\n",
       "      <td>1.000000</td>\n",
       "      <td>0.799051</td>\n",
       "      <td>0.005059</td>\n",
       "      <td>-0.060847</td>\n",
       "      <td>0.302263</td>\n",
       "    </tr>\n",
       "    <tr>\n",
       "      <th>yearly_salary</th>\n",
       "      <td>0.426648</td>\n",
       "      <td>-0.001674</td>\n",
       "      <td>0.222497</td>\n",
       "      <td>-0.011848</td>\n",
       "      <td>0.799051</td>\n",
       "      <td>1.000000</td>\n",
       "      <td>0.005412</td>\n",
       "      <td>-0.073218</td>\n",
       "      <td>0.350416</td>\n",
       "    </tr>\n",
       "    <tr>\n",
       "      <th>age</th>\n",
       "      <td>0.000947</td>\n",
       "      <td>-0.002353</td>\n",
       "      <td>-0.004052</td>\n",
       "      <td>-0.002836</td>\n",
       "      <td>0.005059</td>\n",
       "      <td>0.005412</td>\n",
       "      <td>1.000000</td>\n",
       "      <td>0.000862</td>\n",
       "      <td>-0.002399</td>\n",
       "    </tr>\n",
       "    <tr>\n",
       "      <th>dependent_number</th>\n",
       "      <td>-0.136384</td>\n",
       "      <td>0.000887</td>\n",
       "      <td>-0.058650</td>\n",
       "      <td>0.005154</td>\n",
       "      <td>-0.060847</td>\n",
       "      <td>-0.073218</td>\n",
       "      <td>0.000862</td>\n",
       "      <td>1.000000</td>\n",
       "      <td>-0.097528</td>\n",
       "    </tr>\n",
       "    <tr>\n",
       "      <th>savings</th>\n",
       "      <td>0.621702</td>\n",
       "      <td>0.006550</td>\n",
       "      <td>0.292580</td>\n",
       "      <td>-0.009701</td>\n",
       "      <td>0.302263</td>\n",
       "      <td>0.350416</td>\n",
       "      <td>-0.002399</td>\n",
       "      <td>-0.097528</td>\n",
       "      <td>1.000000</td>\n",
       "    </tr>\n",
       "  </tbody>\n",
       "</table>\n",
       "</div>"
      ],
      "text/plain": [
       "                  loan_repaid  is_first_loan  credit_limit  limit_used  \\\n",
       "loan_repaid          1.000000       0.012824      0.401911   -0.116388   \n",
       "is_first_loan        0.012824       1.000000      0.000679   -0.002585   \n",
       "credit_limit         0.401911       0.000679      1.000000    0.318143   \n",
       "limit_used          -0.116388      -0.002585      0.318143    1.000000   \n",
       "is_employed          0.305749      -0.000971      0.195274   -0.009516   \n",
       "yearly_salary        0.426648      -0.001674      0.222497   -0.011848   \n",
       "age                  0.000947      -0.002353     -0.004052   -0.002836   \n",
       "dependent_number    -0.136384       0.000887     -0.058650    0.005154   \n",
       "savings              0.621702       0.006550      0.292580   -0.009701   \n",
       "\n",
       "                  is_employed  yearly_salary       age  dependent_number  \\\n",
       "loan_repaid          0.305749       0.426648  0.000947         -0.136384   \n",
       "is_first_loan       -0.000971      -0.001674 -0.002353          0.000887   \n",
       "credit_limit         0.195274       0.222497 -0.004052         -0.058650   \n",
       "limit_used          -0.009516      -0.011848 -0.002836          0.005154   \n",
       "is_employed          1.000000       0.799051  0.005059         -0.060847   \n",
       "yearly_salary        0.799051       1.000000  0.005412         -0.073218   \n",
       "age                  0.005059       0.005412  1.000000          0.000862   \n",
       "dependent_number    -0.060847      -0.073218  0.000862          1.000000   \n",
       "savings              0.302263       0.350416 -0.002399         -0.097528   \n",
       "\n",
       "                   savings  \n",
       "loan_repaid       0.621702  \n",
       "is_first_loan     0.006550  \n",
       "credit_limit      0.292580  \n",
       "limit_used       -0.009701  \n",
       "is_employed       0.302263  \n",
       "yearly_salary     0.350416  \n",
       "age              -0.002399  \n",
       "dependent_number -0.097528  \n",
       "savings           1.000000  "
      ]
     },
     "execution_count": 28,
     "metadata": {},
     "output_type": "execute_result"
    }
   ],
   "source": [
    "corr = df.drop(['loan_granted'],axis=1).corr()\n",
    "corr"
   ]
  },
  {
   "cell_type": "code",
   "execution_count": 29,
   "metadata": {},
   "outputs": [
    {
     "data": {
      "image/png": "[encoded data removed]",
      "text/plain": [
       "<matplotlib.figure.Figure at 0x111d4c090>"
      ]
     },
     "metadata": {},
     "output_type": "display_data"
    }
   ],
   "source": [
    "sns.heatmap(corr, xticklabels=corr.columns.values,yticklabels=corr.columns.values)\n",
    "plt.show()"
   ]
  },
  {
   "cell_type": "markdown",
   "metadata": {},
   "source": [
    "- The features that correlate with ``loan_repaid`` most are ``savings``, ``yearly_salary``, ``credit_limit``, and ``is_employed``.\n",
    "- ``age`` and ``is_first_loan`` do not correlate with other features."
   ]
  },
  {
   "cell_type": "markdown",
   "metadata": {},
   "source": [
    "## Data Transformation and Train/Test Split"
   ]
  },
  {
   "cell_type": "markdown",
   "metadata": {},
   "source": [
    "First, we have to transform the categories in categorical features to numerical values."
   ]
  },
  {
   "cell_type": "code",
   "execution_count": 30,
   "metadata": {
    "collapsed": true
   },
   "outputs": [],
   "source": [
    "# Use dummy variables\n",
    "df = pd.get_dummies(df,columns=['loan_purpose','previous_repaid','repaying'])\n",
    "# Drop one dummy variable for each of the three features to avoid dummy variable trap\n",
    "df = df.drop(['loan_purpose_other','previous_repaid_NA','repaying_NA'],axis=1)"
   ]
  },
  {
   "cell_type": "markdown",
   "metadata": {},
   "source": [
    "We actually don't need ``is_first_loan`` anymore, because this information is in ``previous_repaid`` and ``repaying`` already. We will also drop ``age`` since it is irrelevant."
   ]
  },
  {
   "cell_type": "code",
   "execution_count": 31,
   "metadata": {
    "collapsed": true
   },
   "outputs": [],
   "source": [
    "df = df.drop(['is_first_loan','age'],axis=1)"
   ]
  },
  {
   "cell_type": "markdown",
   "metadata": {},
   "source": [
    "Now we have to split the data into three. First, the customers who were not granted loans have to be taken out because we don't know whetehr they would have repaid. Thus, they cannot be used for modeling. Secondly, I will split the remaining data into a training set and a test set, using a 70/30 split."
   ]
  },
  {
   "cell_type": "code",
   "execution_count": 32,
   "metadata": {
    "collapsed": true
   },
   "outputs": [],
   "source": [
    "# Those people that were not granted loans\n",
    "X_notgranted = df[df.loan_granted == 0].reset_index(drop=True).drop(['loan_granted','loan_repaid'],axis=1)\n",
    "\n",
    "# Those that were granted loans\n",
    "X = df[df.loan_granted == 1].reset_index(drop=True).drop(['loan_granted','loan_repaid'],axis=1)\n",
    "Y = df[df.loan_granted == 1].reset_index(drop=True)['loan_repaid'].values # target variable\n",
    "\n",
    "# Train/Test split\n",
    "X_train, X_test, Y_train, Y_test =  train_test_split(X, Y, test_size=0.3, random_state=0)"
   ]
  },
  {
   "cell_type": "markdown",
   "metadata": {},
   "source": [
    "Because not all the features have the same scale, here I scale them using ``StandardScaler``. The standardizer is fit to the training set only, and then used to transform both the training and test sets as well as the data for the customers that were not granted loans."
   ]
  },
  {
   "cell_type": "code",
   "execution_count": 33,
   "metadata": {
    "collapsed": true
   },
   "outputs": [],
   "source": [
    "scaler = StandardScaler()\n",
    "\n",
    "# After the performing the standardization, transform them back to data frames\n",
    "# in order to keep the column names\n",
    "X_train = pd.DataFrame(scaler.fit_transform(X_train.values), columns=X.columns)\n",
    "X_test = pd.DataFrame(scaler.transform(X_test.values), columns=X.columns)\n",
    "X_notgranted = pd.DataFrame(scaler.transform(X_notgranted.values), columns=X.columns)"
   ]
  },
  {
   "cell_type": "markdown",
   "metadata": {},
   "source": [
    "## Logistic regression\n",
    "\n",
    "Here I try Logistic regression and use ``GridSearchCV`` to tune the hyperparameters. The good thing about Logistic regression is that it is easy to interpret and also faster than more complicated models. Later I will also try Random Forest classifier and see whether or not the performance improves significantly. \n",
    "<br><br>\n",
    "In this loan granting problem, both precision (the fraction of people who eventually repay among all the borrowers) and recall (the fraction of customers who are granted loans among all of those who would repay) are important. I therefore use F1 score as the main evaluation metric."
   ]
  },
  {
   "cell_type": "code",
   "execution_count": 34,
   "metadata": {},
   "outputs": [
    {
     "name": "stdout",
     "output_type": "stream",
     "text": [
      "0.920907628916\n",
      "{'C': 0.011220184543019636}\n"
     ]
    }
   ],
   "source": [
    "# Use F1 score for GridSearchCV\n",
    "f1 = make_scorer(f1_score)\n",
    "\n",
    "lr = LogisticRegression()\n",
    "\n",
    "# specify parameters and distributions to sample from\n",
    "C_grid = 0.001*10**(np.arange(0,1.01,0.01)*3)\n",
    "parameters = {\"C\": C_grid}\n",
    "\n",
    "\n",
    "grid_search = GridSearchCV(estimator = lr,\n",
    "                           param_grid = parameters,\n",
    "                           scoring = f1, \n",
    "                           n_jobs = -1)\n",
    "\n",
    "grid_search = grid_search.fit(X_train, Y_train)\n",
    "\n",
    "print grid_search.best_score_\n",
    "print grid_search.best_params_\n",
    "lr = grid_search.best_estimator_"
   ]
  },
  {
   "cell_type": "code",
   "execution_count": 35,
   "metadata": {},
   "outputs": [
    {
     "name": "stdout",
     "output_type": "stream",
     "text": [
      "--- Accuracy ---\n",
      "Training Set: 0.899001708787\n",
      "Test Set: 0.898160453242\n",
      "\n",
      "--- Confusion Matrix ---\n",
      "True Positive: 8509\n",
      "False Negative: 777\n",
      "True Negative: 4332\n",
      "False Positive: 679\n",
      "\n",
      "--- Precision ---\n",
      "Training Set: 0.926274028244\n",
      "Test Set: 0.926099259904\n",
      "\n",
      "--- Recall ---\n",
      "Training Set: 0.915592903828\n",
      "Test Set: 0.916325651518\n",
      "\n",
      "--- F1 Score ---\n",
      "Training Set: 0.920902495715\n",
      "Test Set: 0.921186532424\n"
     ]
    }
   ],
   "source": [
    "Y_pred = lr.predict(X_test)\n",
    "Y_train_pred = lr.predict(X_train)\n",
    "\n",
    "print \"--- Accuracy ---\"\n",
    "print \"Training Set:\",lr.score(X_train, Y_train)\n",
    "print \"Test Set:\",lr.score(X_test, Y_test)\n",
    "\n",
    "tn, fp, fn, tp = confusion_matrix(Y_test, Y_pred).ravel()\n",
    "print \"\\n--- Confusion Matrix ---\"\n",
    "print \"True Positive:\", tp\n",
    "print \"False Negative:\", fn\n",
    "print \"True Negative:\", tn\n",
    "print \"False Positive:\", fp\n",
    "\n",
    "print \"\\n--- Precision ---\"\n",
    "print \"Training Set:\",precision_score(Y_train, Y_train_pred)\n",
    "print \"Test Set:\",precision_score(Y_test, Y_pred)\n",
    "\n",
    "print \"\\n--- Recall ---\"\n",
    "print \"Training Set:\",recall_score(Y_train, Y_train_pred)\n",
    "print \"Test Set:\",recall_score(Y_test, Y_pred)\n",
    "\n",
    "print \"\\n--- F1 Score ---\"\n",
    "print \"Training Set:\",f1_score(Y_train, Y_train_pred)\n",
    "print \"Test Set:\",f1_score(Y_test, Y_pred)"
   ]
  },
  {
   "cell_type": "markdown",
   "metadata": {},
   "source": [
    "In order to compare the profitability of my model and the profitability the bank actually made (for the test set), I assume:\n",
    "- If the loan is granted and the it doesn't get repaid, we lose 1\n",
    "- If the loan is granted and the it does get repaid, we gain 1\n",
    "- We gain 0 if the loan is not granted"
   ]
  },
  {
   "cell_type": "code",
   "execution_count": 36,
   "metadata": {},
   "outputs": [
    {
     "name": "stdout",
     "output_type": "stream",
     "text": [
      "The bank scores 4275 points\n",
      "The Logistic regression model scores 7830 points\n"
     ]
    }
   ],
   "source": [
    "# bank\n",
    "score_bank = sum(Y_test == 1) - sum(Y_test == 0)\n",
    "# my Logistic regression model\n",
    "score_lr = tp - fp\n",
    "\n",
    "print \"The bank scores {} points\".format(score_bank)\n",
    "print \"The Logistic regression model scores {} points\".format(score_lr)"
   ]
  },
  {
   "cell_type": "markdown",
   "metadata": {},
   "source": [
    "We can see that it is a great improvement. But of course, this is not a fair comparison because I am using existing data of borrowers to train my model while the bank didn't have these data (or had much less data) to begin with."
   ]
  },
  {
   "cell_type": "markdown",
   "metadata": {},
   "source": [
    "How about the people who were not granted loans? We can use my model to predict what would happen."
   ]
  },
  {
   "cell_type": "code",
   "execution_count": 37,
   "metadata": {},
   "outputs": [
    {
     "name": "stdout",
     "output_type": "stream",
     "text": [
      "0.340960969951\n"
     ]
    }
   ],
   "source": [
    "# Calculate the fraction of people who would have been granted \n",
    "# loans based on my model among those customers who were not \n",
    "# granted loans\n",
    "\n",
    "Y_notgranted_pred = lr.predict(X_notgranted)\n",
    "print Y_notgranted_pred.sum()/len(Y_notgranted_pred)"
   ]
  },
  {
   "cell_type": "markdown",
   "metadata": {},
   "source": [
    "Based on the model, about 34% of the people who didn't get loans would actually repay and should be granted. If we assume the ratio of true positive over false positive that I got for the test set, we can estimate the profitability we would get if we grant loans to those 34%."
   ]
  },
  {
   "cell_type": "code",
   "execution_count": 38,
   "metadata": {},
   "outputs": [
    {
     "name": "stdout",
     "output_type": "stream",
     "text": [
      "Predicted true positive:  16876\n",
      "Predicted false positive:  1347\n",
      "The estimated profitability: 15529 points\n"
     ]
    }
   ],
   "source": [
    "tp_pred = int(round(Y_notgranted_pred.sum()*tp*1./(tp+fp)))\n",
    "fp_pred = int(round(Y_notgranted_pred.sum()*fp*1./(tp+fp)))\n",
    "print \"Predicted true positive: \", tp_pred\n",
    "print \"Predicted false positive: \", fp_pred\n",
    "print \"The estimated profitability: {} points\".format(tp_pred - fp_pred)"
   ]
  },
  {
   "cell_type": "markdown",
   "metadata": {},
   "source": [
    "One very important thing for a loan granting problem is to interpret the results. Especially, for the customers we reject, we should provide the reasons why they are not granted loans. For the results from Logistic regression, we can check the contributions from each features and find out the dominant ones that make the prediction to be 0 (won't repay). Here I use the first three instances of the test set as the examples."
   ]
  },
  {
   "cell_type": "code",
   "execution_count": 39,
   "metadata": {},
   "outputs": [
    {
     "data": {
      "text/plain": [
       "array([ 0.,  1.,  0.])"
      ]
     },
     "execution_count": 39,
     "metadata": {},
     "output_type": "execute_result"
    }
   ],
   "source": [
    "# the predictions for these three instances are 0, 1, 0\n",
    "Y_pred[0:3]"
   ]
  },
  {
   "cell_type": "markdown",
   "metadata": {},
   "source": [
    "To check the contributions from each features, we can multiply the feature values by the corresponding weights of decision function."
   ]
  },
  {
   "cell_type": "code",
   "execution_count": 40,
   "metadata": {},
   "outputs": [
    {
     "data": {
      "text/plain": [
       "credit_limit                   -1.024036\n",
       "limit_used                      1.817212\n",
       "is_employed                    -3.175226\n",
       "yearly_salary                  -1.795773\n",
       "dependent_number               -0.290484\n",
       "savings                        -0.715252\n",
       "loan_purpose_business           1.857890\n",
       "loan_purpose_emergency_funds   -0.440803\n",
       "loan_purpose_home              -0.567830\n",
       "loan_purpose_investment        -0.534955\n",
       "previous_repaid_No             -0.215091\n",
       "previous_repaid_Yes            -0.840952\n",
       "repaying_No                    -0.689246\n",
       "repaying_Yes                   -0.397426\n",
       "Name: 0, dtype: float64"
      ]
     },
     "execution_count": 40,
     "metadata": {},
     "output_type": "execute_result"
    }
   ],
   "source": [
    "# instance 0: feature values\n",
    "# negative/positive values mean below/above average\n",
    "X_test.loc[0,:]"
   ]
  },
  {
   "cell_type": "code",
   "execution_count": 41,
   "metadata": {},
   "outputs": [
    {
     "data": {
      "text/plain": [
       "credit_limit                   -0.988\n",
       "limit_used                     -0.708\n",
       "is_employed                    -0.337\n",
       "yearly_salary                  -1.735\n",
       "dependent_number                0.064\n",
       "savings                        -1.791\n",
       "loan_purpose_business           0.492\n",
       "loan_purpose_emergency_funds    0.048\n",
       "loan_purpose_home              -0.094\n",
       "loan_purpose_investment        -0.119\n",
       "previous_repaid_No              0.011\n",
       "previous_repaid_Yes             0.000\n",
       "repaying_No                    -0.227\n",
       "repaying_Yes                    0.190\n",
       "Name: 0, dtype: float64"
      ]
     },
     "execution_count": 41,
     "metadata": {},
     "output_type": "execute_result"
    }
   ],
   "source": [
    "# instance 0: feature values times the weights\n",
    "np.round(X_test.loc[0,:] * lr.coef_.reshape(-1),3)"
   ]
  },
  {
   "cell_type": "markdown",
   "metadata": {},
   "source": [
    "We see that low ``savings``, low ``yearly_salary``, low ``credit_limit`` and high ``limit_used`` are the most dominant factors that result in the rejection. In the following, I calculate the predicted probability that this customer will repay (instead of 0 or 1)"
   ]
  },
  {
   "cell_type": "code",
   "execution_count": 42,
   "metadata": {},
   "outputs": [
    {
     "name": "stdout",
     "output_type": "stream",
     "text": [
      "Prediction (probability):  0.03\n"
     ]
    }
   ],
   "source": [
    "# the inner product of feature vector and the weight vector plus the bias term\n",
    "z = sum(X_test.loc[0,:] * lr.coef_.reshape(-1)) + lr.intercept_[0]\n",
    "# apply sigmoid function\n",
    "p = 1.0/(1+np.exp(-z))\n",
    "print \"Prediction (probability): \", round(p,3)"
   ]
  },
  {
   "cell_type": "markdown",
   "metadata": {},
   "source": [
    "Let's do the same exercise for the second instance"
   ]
  },
  {
   "cell_type": "code",
   "execution_count": 43,
   "metadata": {},
   "outputs": [
    {
     "data": {
      "text/plain": [
       "credit_limit                   -0.516832\n",
       "limit_used                     -1.377685\n",
       "is_employed                     0.314938\n",
       "yearly_salary                   0.810202\n",
       "dependent_number               -0.672976\n",
       "savings                         0.339149\n",
       "loan_purpose_business           1.857890\n",
       "loan_purpose_emergency_funds   -0.440803\n",
       "loan_purpose_home              -0.567830\n",
       "loan_purpose_investment        -0.534955\n",
       "previous_repaid_No             -0.215091\n",
       "previous_repaid_Yes             1.189128\n",
       "repaying_No                    -0.689246\n",
       "repaying_Yes                    2.516189\n",
       "Name: 1, dtype: float64"
      ]
     },
     "execution_count": 43,
     "metadata": {},
     "output_type": "execute_result"
    }
   ],
   "source": [
    "# instance 1: feature values\n",
    "# negative/positive values mean below/above average\n",
    "X_test.loc[1,:]"
   ]
  },
  {
   "cell_type": "code",
   "execution_count": 44,
   "metadata": {},
   "outputs": [
    {
     "data": {
      "text/plain": [
       "credit_limit                   -0.498\n",
       "limit_used                      0.537\n",
       "is_employed                     0.033\n",
       "yearly_salary                   0.783\n",
       "dependent_number                0.149\n",
       "savings                         0.849\n",
       "loan_purpose_business           0.492\n",
       "loan_purpose_emergency_funds    0.048\n",
       "loan_purpose_home              -0.094\n",
       "loan_purpose_investment        -0.119\n",
       "previous_repaid_No              0.011\n",
       "previous_repaid_Yes            -0.001\n",
       "repaying_No                    -0.227\n",
       "repaying_Yes                   -1.205\n",
       "Name: 1, dtype: float64"
      ]
     },
     "execution_count": 44,
     "metadata": {},
     "output_type": "execute_result"
    }
   ],
   "source": [
    "# instance 1: feature values times the weights\n",
    "np.round(X_test.loc[1,:] * lr.coef_.reshape(-1),3)"
   ]
  },
  {
   "cell_type": "markdown",
   "metadata": {},
   "source": [
    "We see that high ``savings`` and ``yearly_salary``, and low ``limit_used`` are the most dominant factors that result in the approval. We again calculate the predicted probability that this customer will repay below."
   ]
  },
  {
   "cell_type": "code",
   "execution_count": 45,
   "metadata": {},
   "outputs": [
    {
     "name": "stdout",
     "output_type": "stream",
     "text": [
      "Prediction (probability):  0.922\n"
     ]
    }
   ],
   "source": [
    "# the inner product of feature vector and the weight vector plus the bias term\n",
    "z = sum(X_test.loc[1,:] * lr.coef_.reshape(-1)) + lr.intercept_[0]\n",
    "# apply sigmoid function\n",
    "p = 1.0/(1+np.exp(-z))\n",
    "print \"Prediction (probability): \", round(p,3)"
   ]
  },
  {
   "cell_type": "markdown",
   "metadata": {},
   "source": [
    "Let's do the same exercise for the third instance"
   ]
  },
  {
   "cell_type": "code",
   "execution_count": 46,
   "metadata": {},
   "outputs": [
    {
     "data": {
      "text/plain": [
       "credit_limit                   -0.263230\n",
       "limit_used                      1.867132\n",
       "is_employed                    -3.175226\n",
       "yearly_salary                  -1.795773\n",
       "dependent_number               -1.055468\n",
       "savings                        -0.709365\n",
       "loan_purpose_business          -0.538245\n",
       "loan_purpose_emergency_funds    2.268588\n",
       "loan_purpose_home              -0.567830\n",
       "loan_purpose_investment        -0.534955\n",
       "previous_repaid_No             -0.215091\n",
       "previous_repaid_Yes            -0.840952\n",
       "repaying_No                    -0.689246\n",
       "repaying_Yes                   -0.397426\n",
       "Name: 2, dtype: float64"
      ]
     },
     "execution_count": 46,
     "metadata": {},
     "output_type": "execute_result"
    }
   ],
   "source": [
    "# instance 2: feature values\n",
    "# negative/positive values mean below/above average\n",
    "X_test.loc[2,:]"
   ]
  },
  {
   "cell_type": "code",
   "execution_count": 47,
   "metadata": {},
   "outputs": [
    {
     "data": {
      "text/plain": [
       "credit_limit                   -0.254\n",
       "limit_used                     -0.728\n",
       "is_employed                    -0.337\n",
       "yearly_salary                  -1.735\n",
       "dependent_number                0.233\n",
       "savings                        -1.776\n",
       "loan_purpose_business          -0.143\n",
       "loan_purpose_emergency_funds   -0.245\n",
       "loan_purpose_home              -0.094\n",
       "loan_purpose_investment        -0.119\n",
       "previous_repaid_No              0.011\n",
       "previous_repaid_Yes             0.000\n",
       "repaying_No                    -0.227\n",
       "repaying_Yes                    0.190\n",
       "Name: 2, dtype: float64"
      ]
     },
     "execution_count": 47,
     "metadata": {},
     "output_type": "execute_result"
    }
   ],
   "source": [
    "# instance 2: feature values times the weights\n",
    "np.round(X_test.loc[2,:] * lr.coef_.reshape(-1),3)"
   ]
  },
  {
   "cell_type": "markdown",
   "metadata": {},
   "source": [
    "We again see that low ``savings``, low ``yearly_salary``, high ``limit_used`` and unemployment (``is_employed``) are the most dominant factors that result in the rejection."
   ]
  },
  {
   "cell_type": "code",
   "execution_count": 48,
   "metadata": {},
   "outputs": [
    {
     "name": "stdout",
     "output_type": "stream",
     "text": [
      "Prediction (probability):  0.029\n"
     ]
    }
   ],
   "source": [
    "# the inner product of feature vector and the weight vector plus the bias term\n",
    "z = sum(X_test.loc[2,:] * lr.coef_.reshape(-1)) + lr.intercept_[0]\n",
    "# apply sigmoid function\n",
    "p = 1.0/(1+np.exp(-z))\n",
    "print \"Prediction (probability): \", round(p,3)"
   ]
  },
  {
   "cell_type": "markdown",
   "metadata": {},
   "source": [
    "## Random Forest Classifier\n",
    "\n",
    "Now I will try Random Forest classifier. Let's see if it performs significantly better than the Logistic regression (which in this case simply makes a linear decision boundary to separate the positive and negative examples)."
   ]
  },
  {
   "cell_type": "code",
   "execution_count": 49,
   "metadata": {},
   "outputs": [
    {
     "name": "stdout",
     "output_type": "stream",
     "text": [
      "0.923837543708\n",
      "{'min_samples_leaf': 4, 'n_estimators': 100, 'min_samples_split': 2, 'random_state': 0, 'criterion': 'entropy', 'max_features': 4}\n"
     ]
    }
   ],
   "source": [
    "rf = RandomForestClassifier()\n",
    "\n",
    "# Specify parameters and distributions to sample from\n",
    "parameters = {\"n_estimators\": [100],\n",
    "              \"max_features\": [2,3,4,5],\n",
    "              \"min_samples_split\": [2,3,4,5],\n",
    "              \"min_samples_leaf\": [1,2,3,4,5],\n",
    "              \"criterion\": [\"entropy\"],\n",
    "              \"random_state\": [0]}\n",
    "\n",
    "# Run Grid Search\n",
    "grid_search = GridSearchCV(estimator = rf,\n",
    "                           param_grid = parameters,\n",
    "                           scoring = f1,\n",
    "                           n_jobs = -1)\n",
    "\n",
    "grid_search = grid_search.fit(X_train, Y_train)\n",
    "\n",
    "print grid_search.best_score_\n",
    "print grid_search.best_params_\n",
    "rf = grid_search.best_estimator_"
   ]
  },
  {
   "cell_type": "code",
   "execution_count": 50,
   "metadata": {},
   "outputs": [
    {
     "name": "stdout",
     "output_type": "stream",
     "text": [
      "--- Accuracy ---\n",
      "Training Set: 0.950235332914\n",
      "Test Set: 0.904175701196\n",
      "\n",
      "--- Confusion Matrix ---\n",
      "True Positive: 8505\n",
      "False Negative: 781\n",
      "True Negative: 4422\n",
      "False Positive: 589\n",
      "\n",
      "--- Precision ---\n",
      "Training Set: 0.969314079422\n",
      "Test Set: 0.935232021113\n",
      "\n",
      "--- Recall ---\n",
      "Training Set: 0.952661064426\n",
      "Test Set: 0.915894895542\n",
      "\n",
      "--- F1 Score ---\n",
      "Training Set: 0.960915426634\n",
      "Test Set: 0.925462459195\n"
     ]
    }
   ],
   "source": [
    "Y_pred = rf.predict(X_test)\n",
    "Y_train_pred = rf.predict(X_train)\n",
    "\n",
    "print \"--- Accuracy ---\"\n",
    "print \"Training Set:\",rf.score(X_train, Y_train)\n",
    "print \"Test Set:\",rf.score(X_test, Y_test)\n",
    "\n",
    "tn, fp, fn, tp = confusion_matrix(Y_test, Y_pred).ravel()\n",
    "print \"\\n--- Confusion Matrix ---\"\n",
    "print \"True Positive:\", tp\n",
    "print \"False Negative:\", fn\n",
    "print \"True Negative:\", tn\n",
    "print \"False Positive:\", fp\n",
    "\n",
    "print \"\\n--- Precision ---\"\n",
    "print \"Training Set:\",precision_score(Y_train, Y_train_pred)\n",
    "print \"Test Set:\",precision_score(Y_test, Y_pred)\n",
    "\n",
    "print \"\\n--- Recall ---\"\n",
    "print \"Training Set:\",recall_score(Y_train, Y_train_pred)\n",
    "print \"Test Set:\",recall_score(Y_test, Y_pred)\n",
    "\n",
    "print \"\\n--- F1 Score ---\"\n",
    "print \"Training Set:\",f1_score(Y_train, Y_train_pred)\n",
    "print \"Test Set:\",f1_score(Y_test, Y_pred)"
   ]
  },
  {
   "cell_type": "markdown",
   "metadata": {},
   "source": [
    "The performance of this model is only a little better than the Logistic regression."
   ]
  },
  {
   "cell_type": "code",
   "execution_count": 51,
   "metadata": {},
   "outputs": [
    {
     "name": "stdout",
     "output_type": "stream",
     "text": [
      "The bank scores 4275 points\n",
      "The Random Forest classifier scores 7916 points\n"
     ]
    }
   ],
   "source": [
    "# bank\n",
    "score_bank = sum(Y_test == 1) - sum(Y_test == 0)\n",
    "# my Logistic regression model\n",
    "score_rf = tp - fp\n",
    "\n",
    "print \"The bank scores {} points\".format(score_bank)\n",
    "print \"The Random Forest classifier scores {} points\".format(score_rf)"
   ]
  },
  {
   "cell_type": "markdown",
   "metadata": {},
   "source": [
    "The score of 7916 points is only a little higher than the score of the Logistic regression (7830 points)"
   ]
  },
  {
   "cell_type": "markdown",
   "metadata": {},
   "source": [
    "How about the people who were not granted loans?"
   ]
  },
  {
   "cell_type": "code",
   "execution_count": 52,
   "metadata": {},
   "outputs": [
    {
     "name": "stdout",
     "output_type": "stream",
     "text": [
      "0.343748830595\n"
     ]
    }
   ],
   "source": [
    "# Calculate the fraction of people who would have been granted \n",
    "# loans based on my model among those customers who were not \n",
    "# granted loans\n",
    "\n",
    "Y_notgranted_pred = rf.predict(X_notgranted)\n",
    "print Y_notgranted_pred.sum()/len(Y_notgranted_pred)"
   ]
  },
  {
   "cell_type": "markdown",
   "metadata": {},
   "source": [
    "Again, about 34% of the people who didn't get loans would actually repay based on the model. Assuming the ratio of true positive over false positive I got above, we can estimate the profitability we would get if these 34% are granted loans."
   ]
  },
  {
   "cell_type": "code",
   "execution_count": 53,
   "metadata": {},
   "outputs": [
    {
     "name": "stdout",
     "output_type": "stream",
     "text": [
      "Predicted true positive:  17182\n",
      "Predicted false positive:  1190\n",
      "The estimated profitability: 15992 points\n"
     ]
    }
   ],
   "source": [
    "tp_pred = int(round(Y_notgranted_pred.sum()*tp*1./(tp+fp)))\n",
    "fp_pred = int(round(Y_notgranted_pred.sum()*fp*1./(tp+fp)))\n",
    "print \"Predicted true positive: \", tp_pred\n",
    "print \"Predicted false positive: \", fp_pred\n",
    "print \"The estimated profitability: {} points\".format(tp_pred - fp_pred)"
   ]
  },
  {
   "cell_type": "markdown",
   "metadata": {},
   "source": [
    "To interpret the results from a decision tree or random forest, we can use the [treeinterpreter](https://github.com/andosa/treeinterpreter) (also see [this](http://blog.datadive.net/interpreting-random-forests/) and [this](http://blog.datadive.net/random-forest-interpretation-with-scikit-learn/) blog posts). Again, I will use the first three instances of the test set as the examples."
   ]
  },
  {
   "cell_type": "code",
   "execution_count": 54,
   "metadata": {},
   "outputs": [
    {
     "name": "stdout",
     "output_type": "stream",
     "text": [
      "Instance 0\n",
      "Prediction:  0.028\n",
      "Bias (training set mean value):  0.642\n",
      "Feature contributions:\n",
      "savings -0.247\n",
      "is_employed -0.193\n",
      "credit_limit -0.089\n",
      "yearly_salary -0.086\n",
      "repaying_Yes 0.026\n",
      "limit_used -0.024\n",
      "loan_purpose_business 0.02\n",
      "repaying_No -0.016\n",
      "previous_repaid_Yes -0.004\n",
      "dependent_number -0.004\n",
      "loan_purpose_emergency_funds 0.003\n",
      "loan_purpose_investment -0.0\n",
      "previous_repaid_No 0.0\n",
      "loan_purpose_home 0.0\n",
      "--------------------\n",
      "Instance 1\n",
      "Prediction:  0.929\n",
      "Bias (training set mean value):  0.642\n",
      "Feature contributions:\n",
      "savings 0.363\n",
      "repaying_Yes -0.13\n",
      "yearly_salary 0.111\n",
      "credit_limit -0.073\n",
      "limit_used 0.021\n",
      "is_employed 0.012\n",
      "previous_repaid_Yes -0.009\n",
      "repaying_No -0.009\n",
      "dependent_number -0.007\n",
      "loan_purpose_business 0.003\n",
      "loan_purpose_emergency_funds 0.002\n",
      "loan_purpose_investment 0.002\n",
      "loan_purpose_home -0.0\n",
      "previous_repaid_No 0.0\n",
      "--------------------\n",
      "Instance 2\n",
      "Prediction:  0.008\n",
      "Bias (training set mean value):  0.642\n",
      "Feature contributions:\n",
      "savings -0.249\n",
      "is_employed -0.198\n",
      "yearly_salary -0.09\n",
      "credit_limit -0.056\n",
      "limit_used -0.034\n",
      "repaying_Yes 0.025\n",
      "repaying_No -0.017\n",
      "loan_purpose_emergency_funds -0.014\n",
      "dependent_number 0.005\n",
      "loan_purpose_business -0.003\n",
      "previous_repaid_Yes -0.001\n",
      "loan_purpose_home -0.0\n",
      "loan_purpose_investment -0.0\n",
      "previous_repaid_No -0.0\n",
      "--------------------\n"
     ]
    }
   ],
   "source": [
    "instances = X_test.loc[0:2,:]\n",
    "\n",
    "# see the links above for \"treeinterpreter\" \n",
    "prediction, bias, contribution = ti.predict(rf, instances)\n",
    "\n",
    "for i in range(len(instances)):\n",
    "    print \"Instance\", i\n",
    "    print \"Prediction: \", round(prediction[i,1],3)\n",
    "    print \"Bias (training set mean value): \", round(bias[i,1],3)\n",
    "    print \"Feature contributions:\"\n",
    "    \n",
    "    # The feature contributions are sorted by their absolute impact\n",
    "    for c,feature in sorted(zip(contribution[i,:,1],X_train.columns.values), \n",
    "                             key=lambda x: -abs(x[0])):\n",
    "        print feature, round(c, 3)\n",
    "    print \"-\"*20 "
   ]
  },
  {
   "cell_type": "markdown",
   "metadata": {
    "collapsed": true
   },
   "source": [
    "- instance 0: ``savings``, ``is_employed``, ``credit_limit``, and ``yearly_salary`` are the most dominant factors that result in the rejection.\n",
    "- instance 1: ``savings`` and ``yearly_salary`` are the most dominant factors that result in the approval.\n",
    "- instance 2: ``savings``, ``is_employed``, ``yearly_salary``, and ``credit_limit`` are the most dominant factors that result in the rejection."
   ]
  },
  {
   "cell_type": "markdown",
   "metadata": {},
   "source": [
    "Interestingly, ``is_employed`` plays a more important role in this Random Forest classifier than in the Logistic regression, showing the difference of decision boundary between the two models. Intuitively, ``is_employed`` should be a very important factor to decide whether to grant loan to a costumer, since an unemployed person usually doesn't have steady income and will be most likely unable to repay."
   ]
  }
 ],
 "metadata": {
  "kernelspec": {
   "display_name": "Python 2",
   "language": "python",
   "name": "python2"
  },
  "language_info": {
   "codemirror_mode": {
    "name": "ipython",
    "version": 2
   },
   "file_extension": ".py",
   "mimetype": "text/x-python",
   "name": "python",
   "nbconvert_exporter": "python",
   "pygments_lexer": "ipython2",
   "version": "2.7.13"
  }
 },
 "nbformat": 4,
 "nbformat_minor": 2
}
