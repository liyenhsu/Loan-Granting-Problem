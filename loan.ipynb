{
 "cells": [
  {
   "cell_type": "markdown",
   "metadata": {},
   "source": [
    "# Making Loan Granting Decisions\n",
    "\n",
    "In this project, we have a loan dataset from a bank. The data contain all the loans asked to the bank, whether the bank decided to grant it, whether the borrower managed to repay it, and the information about the borrower at the moment he/she is asking for the loan. The goal is to build a model to predict whether a customer will repay, which can be used to decide whether to grant loans to future customers. **This project is stll a work in progress.**"
   ]
  },
  {
   "cell_type": "code",
   "execution_count": 1,
   "metadata": {
    "collapsed": true
   },
   "outputs": [],
   "source": [
    "import numpy as np\n",
    "import pandas as pd \n",
    "import matplotlib.pyplot as plt\n",
    "import seaborn as sns\n",
    "\n",
    "from xgboost import XGBClassifier\n",
    "from sklearn.ensemble import RandomForestClassifier\n",
    "from sklearn.model_selection import GridSearchCV, RandomizedSearchCV\n",
    "from sklearn.metrics import roc_auc_score,confusion_matrix,classification_report\n",
    "from sklearn.metrics import precision_score,recall_score,f1_score,make_scorer\n",
    "from sklearn.preprocessing import StandardScaler\n",
    "from sklearn.model_selection import train_test_split"
   ]
  },
  {
   "cell_type": "code",
   "execution_count": 2,
   "metadata": {},
   "outputs": [
    {
     "data": {
      "text/plain": [
       "((101100, 5), (101100, 12))"
      ]
     },
     "execution_count": 2,
     "metadata": {},
     "output_type": "execute_result"
    }
   ],
   "source": [
    "df_loan  = pd.read_csv('data/loan_table.csv')\n",
    "df_borrower  = pd.read_csv('data/borrower_table.csv')\n",
    "\n",
    "# inspect the size of the data\n",
    "df_loan.shape, df_borrower.shape"
   ]
  },
  {
   "cell_type": "code",
   "execution_count": 3,
   "metadata": {},
   "outputs": [
    {
     "data": {
      "text/html": [
       "<div>\n",
       "<style>\n",
       "    .dataframe thead tr:only-child th {\n",
       "        text-align: right;\n",
       "    }\n",
       "\n",
       "    .dataframe thead th {\n",
       "        text-align: left;\n",
       "    }\n",
       "\n",
       "    .dataframe tbody tr th {\n",
       "        vertical-align: top;\n",
       "    }\n",
       "</style>\n",
       "<table border=\"1\" class=\"dataframe\">\n",
       "  <thead>\n",
       "    <tr style=\"text-align: right;\">\n",
       "      <th></th>\n",
       "      <th>loan_id</th>\n",
       "      <th>loan_purpose</th>\n",
       "      <th>date</th>\n",
       "      <th>loan_granted</th>\n",
       "      <th>loan_repaid</th>\n",
       "    </tr>\n",
       "  </thead>\n",
       "  <tbody>\n",
       "    <tr>\n",
       "      <th>0</th>\n",
       "      <td>19454</td>\n",
       "      <td>investment</td>\n",
       "      <td>2012-03-15</td>\n",
       "      <td>0</td>\n",
       "      <td>NaN</td>\n",
       "    </tr>\n",
       "    <tr>\n",
       "      <th>1</th>\n",
       "      <td>496811</td>\n",
       "      <td>investment</td>\n",
       "      <td>2012-01-17</td>\n",
       "      <td>0</td>\n",
       "      <td>NaN</td>\n",
       "    </tr>\n",
       "    <tr>\n",
       "      <th>2</th>\n",
       "      <td>929493</td>\n",
       "      <td>other</td>\n",
       "      <td>2012-02-09</td>\n",
       "      <td>0</td>\n",
       "      <td>NaN</td>\n",
       "    </tr>\n",
       "    <tr>\n",
       "      <th>3</th>\n",
       "      <td>580653</td>\n",
       "      <td>other</td>\n",
       "      <td>2012-06-27</td>\n",
       "      <td>1</td>\n",
       "      <td>1.0</td>\n",
       "    </tr>\n",
       "    <tr>\n",
       "      <th>4</th>\n",
       "      <td>172419</td>\n",
       "      <td>business</td>\n",
       "      <td>2012-05-21</td>\n",
       "      <td>1</td>\n",
       "      <td>0.0</td>\n",
       "    </tr>\n",
       "  </tbody>\n",
       "</table>\n",
       "</div>"
      ],
      "text/plain": [
       "   loan_id loan_purpose        date  loan_granted  loan_repaid\n",
       "0    19454   investment  2012-03-15             0          NaN\n",
       "1   496811   investment  2012-01-17             0          NaN\n",
       "2   929493        other  2012-02-09             0          NaN\n",
       "3   580653        other  2012-06-27             1          1.0\n",
       "4   172419     business  2012-05-21             1          0.0"
      ]
     },
     "execution_count": 3,
     "metadata": {},
     "output_type": "execute_result"
    }
   ],
   "source": [
    "df_loan.head()"
   ]
  },
  {
   "cell_type": "code",
   "execution_count": 4,
   "metadata": {},
   "outputs": [
    {
     "data": {
      "text/html": [
       "<div>\n",
       "<style>\n",
       "    .dataframe thead tr:only-child th {\n",
       "        text-align: right;\n",
       "    }\n",
       "\n",
       "    .dataframe thead th {\n",
       "        text-align: left;\n",
       "    }\n",
       "\n",
       "    .dataframe tbody tr th {\n",
       "        vertical-align: top;\n",
       "    }\n",
       "</style>\n",
       "<table border=\"1\" class=\"dataframe\">\n",
       "  <thead>\n",
       "    <tr style=\"text-align: right;\">\n",
       "      <th></th>\n",
       "      <th>loan_id</th>\n",
       "      <th>is_first_loan</th>\n",
       "      <th>fully_repaid_previous_loans</th>\n",
       "      <th>currently_repaying_other_loans</th>\n",
       "      <th>total_credit_card_limit</th>\n",
       "      <th>avg_percentage_credit_card_limit_used_last_year</th>\n",
       "      <th>saving_amount</th>\n",
       "      <th>checking_amount</th>\n",
       "      <th>is_employed</th>\n",
       "      <th>yearly_salary</th>\n",
       "      <th>age</th>\n",
       "      <th>dependent_number</th>\n",
       "    </tr>\n",
       "  </thead>\n",
       "  <tbody>\n",
       "    <tr>\n",
       "      <th>0</th>\n",
       "      <td>289774</td>\n",
       "      <td>1</td>\n",
       "      <td>NaN</td>\n",
       "      <td>NaN</td>\n",
       "      <td>8000</td>\n",
       "      <td>0.49</td>\n",
       "      <td>3285</td>\n",
       "      <td>1073</td>\n",
       "      <td>0</td>\n",
       "      <td>0</td>\n",
       "      <td>47</td>\n",
       "      <td>3</td>\n",
       "    </tr>\n",
       "    <tr>\n",
       "      <th>1</th>\n",
       "      <td>482590</td>\n",
       "      <td>0</td>\n",
       "      <td>1.0</td>\n",
       "      <td>0.0</td>\n",
       "      <td>4500</td>\n",
       "      <td>1.03</td>\n",
       "      <td>636</td>\n",
       "      <td>5299</td>\n",
       "      <td>1</td>\n",
       "      <td>13500</td>\n",
       "      <td>33</td>\n",
       "      <td>1</td>\n",
       "    </tr>\n",
       "    <tr>\n",
       "      <th>2</th>\n",
       "      <td>135565</td>\n",
       "      <td>1</td>\n",
       "      <td>NaN</td>\n",
       "      <td>NaN</td>\n",
       "      <td>6900</td>\n",
       "      <td>0.82</td>\n",
       "      <td>2085</td>\n",
       "      <td>3422</td>\n",
       "      <td>1</td>\n",
       "      <td>24500</td>\n",
       "      <td>38</td>\n",
       "      <td>8</td>\n",
       "    </tr>\n",
       "    <tr>\n",
       "      <th>3</th>\n",
       "      <td>207797</td>\n",
       "      <td>0</td>\n",
       "      <td>1.0</td>\n",
       "      <td>0.0</td>\n",
       "      <td>1200</td>\n",
       "      <td>0.82</td>\n",
       "      <td>358</td>\n",
       "      <td>3388</td>\n",
       "      <td>0</td>\n",
       "      <td>0</td>\n",
       "      <td>24</td>\n",
       "      <td>1</td>\n",
       "    </tr>\n",
       "    <tr>\n",
       "      <th>4</th>\n",
       "      <td>828078</td>\n",
       "      <td>0</td>\n",
       "      <td>0.0</td>\n",
       "      <td>0.0</td>\n",
       "      <td>6900</td>\n",
       "      <td>0.80</td>\n",
       "      <td>2138</td>\n",
       "      <td>4282</td>\n",
       "      <td>1</td>\n",
       "      <td>18100</td>\n",
       "      <td>36</td>\n",
       "      <td>1</td>\n",
       "    </tr>\n",
       "  </tbody>\n",
       "</table>\n",
       "</div>"
      ],
      "text/plain": [
       "   loan_id  is_first_loan  fully_repaid_previous_loans  \\\n",
       "0   289774              1                          NaN   \n",
       "1   482590              0                          1.0   \n",
       "2   135565              1                          NaN   \n",
       "3   207797              0                          1.0   \n",
       "4   828078              0                          0.0   \n",
       "\n",
       "   currently_repaying_other_loans  total_credit_card_limit  \\\n",
       "0                             NaN                     8000   \n",
       "1                             0.0                     4500   \n",
       "2                             NaN                     6900   \n",
       "3                             0.0                     1200   \n",
       "4                             0.0                     6900   \n",
       "\n",
       "   avg_percentage_credit_card_limit_used_last_year  saving_amount  \\\n",
       "0                                             0.49           3285   \n",
       "1                                             1.03            636   \n",
       "2                                             0.82           2085   \n",
       "3                                             0.82            358   \n",
       "4                                             0.80           2138   \n",
       "\n",
       "   checking_amount  is_employed  yearly_salary  age  dependent_number  \n",
       "0             1073            0              0   47                 3  \n",
       "1             5299            1          13500   33                 1  \n",
       "2             3422            1          24500   38                 8  \n",
       "3             3388            0              0   24                 1  \n",
       "4             4282            1          18100   36                 1  "
      ]
     },
     "execution_count": 4,
     "metadata": {},
     "output_type": "execute_result"
    }
   ],
   "source": [
    "df_borrower.head()"
   ]
  },
  {
   "cell_type": "markdown",
   "metadata": {},
   "source": [
    "## Data Cleaning"
   ]
  },
  {
   "cell_type": "code",
   "execution_count": 5,
   "metadata": {
    "collapsed": true
   },
   "outputs": [],
   "source": [
    "# Merge the two data frames using \"loan_id\"\n",
    "df = pd.merge(left=df_loan, right=df_borrower, how='left', on='loan_id')\n",
    "# Drop \"loan_id\" and \"date\", which are not useful for modeling\n",
    "df = df.drop(['loan_id','date'],axis=1)\n",
    "\n",
    "# Rename some columns whose names are too long \n",
    "df = df.rename(columns={'fully_repaid_previous_loans': 'previous_repaid', \n",
    "                        'currently_repaying_other_loans': 'repaying',\n",
    "                        'total_credit_card_limit': 'credit_limit', \n",
    "                        'avg_percentage_credit_card_limit_used_last_year':'limit_used'})"
   ]
  },
  {
   "cell_type": "code",
   "execution_count": 6,
   "metadata": {},
   "outputs": [
    {
     "data": {
      "text/plain": [
       "loan_purpose            0\n",
       "loan_granted            0\n",
       "loan_repaid         53446\n",
       "is_first_loan           0\n",
       "previous_repaid     54947\n",
       "repaying            54947\n",
       "credit_limit            0\n",
       "limit_used           6972\n",
       "saving_amount           0\n",
       "checking_amount         0\n",
       "is_employed             0\n",
       "yearly_salary           0\n",
       "age                     0\n",
       "dependent_number        0\n",
       "dtype: int64"
      ]
     },
     "execution_count": 6,
     "metadata": {},
     "output_type": "execute_result"
    }
   ],
   "source": [
    "# Check the amount of NANs in each column\n",
    "df.isnull().sum()"
   ]
  },
  {
   "cell_type": "markdown",
   "metadata": {
    "collapsed": true
   },
   "source": [
    "There are 53446 NANs in ``loan_repaid``, which should be due to the fact that those customers were not granted the loan in the first place. We can check whether the number of granted loans is also 53446."
   ]
  },
  {
   "cell_type": "code",
   "execution_count": 7,
   "metadata": {},
   "outputs": [
    {
     "name": "stdout",
     "output_type": "stream",
     "text": [
      "53446\n"
     ]
    }
   ],
   "source": [
    "# Yes, it is also 53446\n",
    "print sum(df.loan_granted == 0)"
   ]
  },
  {
   "cell_type": "markdown",
   "metadata": {},
   "source": [
    "There are 54947 NANs in both ``previous_repaid`` and ``repaying``, which should be due to the fact that those customers never had a loan in the past. We can check whether there are 54947 ones in ``is_first_loan`` "
   ]
  },
  {
   "cell_type": "code",
   "execution_count": 8,
   "metadata": {},
   "outputs": [
    {
     "name": "stdout",
     "output_type": "stream",
     "text": [
      "54947\n"
     ]
    }
   ],
   "source": [
    "# Yes, it is also 54947\n",
    "print sum(df.is_first_loan)"
   ]
  },
  {
   "cell_type": "code",
   "execution_count": 9,
   "metadata": {
    "collapsed": true
   },
   "outputs": [],
   "source": [
    "# fill the NANs in \"previous_repaid\" and \"repaying\" and make both features \n",
    "# have three categories, \"NA\", \"YES\", \"NO\"\n",
    "\n",
    "df.previous_repaid.fillna(-1,inplace=True)\n",
    "df.repaying.fillna(-1,inplace=True)\n",
    "df.previous_repaid = df.previous_repaid.replace({0: 'No', 1: 'Yes', -1: 'NA'})\n",
    "df.repaying = df.repaying.replace({0: 'No', 1: 'Yes', -1: 'NA'})"
   ]
  },
  {
   "cell_type": "markdown",
   "metadata": {},
   "source": [
    "Now we don't need ``is_first_loan`` anymore, because this information is in ``previous_repaid`` and ``repaying`` already."
   ]
  },
  {
   "cell_type": "code",
   "execution_count": 10,
   "metadata": {
    "collapsed": true
   },
   "outputs": [],
   "source": [
    "df = df.drop(['is_first_loan'],axis=1)"
   ]
  },
  {
   "cell_type": "markdown",
   "metadata": {},
   "source": [
    "Lastly, there are 6972 NANs in ``limit_used``, which should be due to the fact that those customers have no credit card limit at all. We can check whether there are 6972 zeros in ``credit_limit`` "
   ]
  },
  {
   "cell_type": "code",
   "execution_count": 11,
   "metadata": {},
   "outputs": [
    {
     "name": "stdout",
     "output_type": "stream",
     "text": [
      "6972\n"
     ]
    }
   ],
   "source": [
    "# Yes, it is also 6972\n",
    "print sum(df.credit_limit == 0) "
   ]
  },
  {
   "cell_type": "code",
   "execution_count": 12,
   "metadata": {
    "collapsed": true
   },
   "outputs": [],
   "source": [
    "# We can just fill these NANs using zeros\n",
    "df.limit_used.fillna(0,inplace=True)"
   ]
  },
  {
   "cell_type": "markdown",
   "metadata": {},
   "source": [
    "The data have the total saving account balance and total checking account balance separately. However, what matters is the total balance, as some people prefer to put most of their money in the checking accounts while some others do not. So here I create a new column ``savings``, which equals the total balance. And then ``saving_amount`` and ``checking_amount`` can be dropped."
   ]
  },
  {
   "cell_type": "code",
   "execution_count": 13,
   "metadata": {},
   "outputs": [
    {
     "name": "stdout",
     "output_type": "stream",
     "text": [
      "   saving_amount  checking_amount\n",
      "0           1491             6285\n",
      "1            141             5793\n",
      "2            660             3232\n",
      "3           3345             2764\n",
      "4           1050             3695\n",
      "5           1028             3269\n",
      "6           4206             4368\n",
      "7            886             1597\n",
      "8           1837             3795\n",
      "9            134             1408\n"
     ]
    }
   ],
   "source": [
    "print df[['saving_amount','checking_amount']].head(10)\n",
    "\n",
    "df['savings'] =  df.saving_amount + df.checking_amount\n",
    "df = df.drop(['saving_amount','checking_amount'],axis=1)"
   ]
  },
  {
   "cell_type": "markdown",
   "metadata": {},
   "source": [
    "## Exploratory Data Analysis and Visualization\n",
    "\n",
    "**To be completed...**\n"
   ]
  },
  {
   "cell_type": "markdown",
   "metadata": {},
   "source": [
    "## Data Transformation and Train/Test Split"
   ]
  },
  {
   "cell_type": "markdown",
   "metadata": {},
   "source": [
    "First, we have to transform the categories in categorical features to numerical values."
   ]
  },
  {
   "cell_type": "code",
   "execution_count": 14,
   "metadata": {
    "collapsed": true
   },
   "outputs": [],
   "source": [
    "# Use dummy variables\n",
    "df = pd.get_dummies(df,columns=['loan_purpose','previous_repaid','repaying'])\n",
    "# Drop one dummy variable for each of the three features to avoid dummy variable trap\n",
    "df = df.drop(['loan_purpose_other','previous_repaid_NA','repaying_NA'],axis=1)"
   ]
  },
  {
   "cell_type": "markdown",
   "metadata": {},
   "source": [
    "Now we have to split the data into three. First, the customers who were not granted loans have to be taken out because we don't know whetehr they would have repaid. Thus, they cannot be used for modeling. Secondly, I will split the remaining data into a training set and a test set, using a 70/30 split"
   ]
  },
  {
   "cell_type": "code",
   "execution_count": 15,
   "metadata": {
    "collapsed": true
   },
   "outputs": [],
   "source": [
    "# Those that were not granted loans\n",
    "X_notgranted = df[df.loan_granted == 0].reset_index(drop=True).drop(['loan_granted','loan_repaid'],axis=1)\n",
    "\n",
    "# Those that were granted loans\n",
    "X = df[df.loan_granted == 1].reset_index(drop=True).drop(['loan_granted','loan_repaid'],axis=1)\n",
    "Y = df[df.loan_granted == 1].reset_index(drop=True)['loan_repaid'].values # target variable\n",
    "\n",
    "# Train/Test split\n",
    "X_train, X_test, Y_train, Y_test =  train_test_split(X, Y, test_size=0.3, random_state=0)"
   ]
  },
  {
   "cell_type": "markdown",
   "metadata": {},
   "source": [
    "Because not all the features have the same scale, here I scale them using ``StandardScaler``. The standardizer is fit to the training set only, and then used to transform both the training and test sets as well as the data for the costumers that were not granted loans."
   ]
  },
  {
   "cell_type": "code",
   "execution_count": 16,
   "metadata": {
    "collapsed": true
   },
   "outputs": [],
   "source": [
    "scaler = StandardScaler()\n",
    "\n",
    "# After the performing the standardization, transform them back to data frames\n",
    "# in order to keep the column names\n",
    "X_train = pd.DataFrame(scaler.fit_transform(X_train.values), columns=X.columns)\n",
    "X_test = pd.DataFrame(scaler.transform(X_test.values), columns=X.columns)\n",
    "X_notgranted = pd.DataFrame(scaler.transform(X_notgranted.values), columns=X.columns)"
   ]
  },
  {
   "cell_type": "markdown",
   "metadata": {},
   "source": [
    "## Random Forest Classifier\n",
    "\n",
    "Here I try a Random Forest classifier and use ``GridSearchCV`` to tune the hyperparameters. In this loan granting problem, both precision (the fraction of people who eventually repay among all the borrowers) and recall (the fraction of costumers who are granted loans among all of those who would repay) are important. I therefore use F1 score as the main evaluation metric."
   ]
  },
  {
   "cell_type": "code",
   "execution_count": 17,
   "metadata": {},
   "outputs": [
    {
     "name": "stdout",
     "output_type": "stream",
     "text": [
      "0.924426650427\n",
      "{'min_samples_leaf': 3, 'n_estimators': 100, 'min_samples_split': 2, 'random_state': 0, 'criterion': 'entropy', 'max_features': 4}\n"
     ]
    }
   ],
   "source": [
    "rf = RandomForestClassifier()\n",
    "\n",
    "# Use F1 score for GridSearchCV\n",
    "f1 = make_scorer(f1_score)\n",
    "\n",
    "# Specify parameters and distributions to sample from\n",
    "parameters = {\"n_estimators\": [100],\n",
    "              \"max_features\": [2,3,4,5],\n",
    "              \"min_samples_split\": [2,3,4,5],\n",
    "              \"min_samples_leaf\": [1,2,3,4,5],\n",
    "              \"criterion\": [\"entropy\"],\n",
    "              \"random_state\": [0]}\n",
    "\n",
    "# Run Grid Search\n",
    "grid_search = GridSearchCV(estimator = rf,\n",
    "                           param_grid = parameters,\n",
    "                           scoring = f1,\n",
    "                           n_jobs = -1)\n",
    "\n",
    "grid_search = grid_search.fit(X_train, Y_train)\n",
    "\n",
    "print grid_search.best_score_\n",
    "print grid_search.best_params_\n",
    "rf = grid_search.best_estimator_"
   ]
  },
  {
   "cell_type": "code",
   "execution_count": 18,
   "metadata": {},
   "outputs": [
    {
     "name": "stdout",
     "output_type": "stream",
     "text": [
      "Accuracy:\n",
      "Training Set: 0.966094073208\n",
      "Test Set: 0.902217248374\n",
      "\n",
      "Confusion Matrix:\n",
      "True Positive: 8493\n",
      "False Negative: 793\n",
      "True Negative: 4406\n",
      "False Positive: 605\n",
      "\n",
      "Precision:\n",
      "Training Set: 0.979849581382\n",
      "Test Set: 0.933501868543\n",
      "\n",
      "Recall:\n",
      "Training Set: 0.967086834734\n",
      "Test Set: 0.914602627611\n",
      "\n",
      "F1 Score:\n",
      "Training Set: 0.97342637626\n",
      "Test Set: 0.923955613577\n"
     ]
    }
   ],
   "source": [
    "Y_pred = rf.predict(X_test)\n",
    "Y_train_pred = rf.predict(X_train)\n",
    "\n",
    "print \"Accuracy:\"\n",
    "print \"Training Set:\",rf.score(X_train, Y_train)\n",
    "print \"Test Set:\",rf.score(X_test, Y_test)\n",
    "\n",
    "tn, fp, fn, tp = confusion_matrix(Y_test, Y_pred).ravel()\n",
    "print \"\\nConfusion Matrix:\"\n",
    "print \"True Positive:\", tp\n",
    "print \"False Negative:\", fn\n",
    "print \"True Negative:\", tn\n",
    "print \"False Positive:\", fp\n",
    "\n",
    "print \"\\nPrecision:\"\n",
    "print \"Training Set:\",precision_score(Y_train, Y_train_pred)\n",
    "print \"Test Set:\",precision_score(Y_test, Y_pred)\n",
    "\n",
    "print \"\\nRecall:\"\n",
    "print \"Training Set:\",recall_score(Y_train, Y_train_pred)\n",
    "print \"Test Set:\",recall_score(Y_test, Y_pred)\n",
    "\n",
    "print \"\\nF1 Score:\"\n",
    "print \"Training Set:\",f1_score(Y_train, Y_train_pred)\n",
    "print \"Test Set:\",f1_score(Y_test, Y_pred)"
   ]
  },
  {
   "cell_type": "code",
   "execution_count": 19,
   "metadata": {},
   "outputs": [
    {
     "name": "stdout",
     "output_type": "stream",
     "text": [
      "0.344291434345\n"
     ]
    }
   ],
   "source": [
    "Y_notgranted_pred = rf.predict(X_notgranted)\n",
    "\n",
    "# The fraction of people who would have been granted loans based\n",
    "# on my model among those costumers who were not granted loans\n",
    "print Y_notgranted_pred.sum()/len(Y_notgranted_pred)"
   ]
  },
  {
   "cell_type": "markdown",
   "metadata": {},
   "source": [
    "**To be continue...**"
   ]
  },
  {
   "cell_type": "code",
   "execution_count": null,
   "metadata": {
    "collapsed": true
   },
   "outputs": [],
   "source": []
  }
 ],
 "metadata": {
  "kernelspec": {
   "display_name": "Python 2",
   "language": "python",
   "name": "python2"
  },
  "language_info": {
   "codemirror_mode": {
    "name": "ipython",
    "version": 2
   },
   "file_extension": ".py",
   "mimetype": "text/x-python",
   "name": "python",
   "nbconvert_exporter": "python",
   "pygments_lexer": "ipython2",
   "version": "2.7.13"
  }
 },
 "nbformat": 4,
 "nbformat_minor": 2
}
